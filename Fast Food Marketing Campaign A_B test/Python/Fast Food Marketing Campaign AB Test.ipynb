{
 "cells": [
  {
   "cell_type": "code",
   "execution_count": 193,
   "id": "b17e18b2",
   "metadata": {},
   "outputs": [],
   "source": [
    "import pandas as pd\n",
    "import numpy as np\n",
    "import matplotlib.pyplot as plt\n",
    "import seaborn as sns\n",
    "import scipy.stats as stats\n",
    "import warnings\n",
    "warnings.filterwarnings('ignore')"
   ]
  },
  {
   "cell_type": "markdown",
   "id": "0326ec11",
   "metadata": {},
   "source": [
    "# Intro"
   ]
  },
  {
   "cell_type": "markdown",
   "id": "2b41914d",
   "metadata": {},
   "source": [
    "The following analysis is about a fast food company which plans to add a new item to its menu. To successfully launch the new item, the company is considering three marketing campaigns to promote the new product.\n",
    "\n",
    "To determine which campaign(s)/promotion(s) is/are the most effective, success is measured by how much revenue the new items generate based on the promotion/campaign type (1, 2 or 3).\n",
    "\n",
    "The new items are introduced in randomly selected markets and locations. Each location will host a single campaign."
   ]
  },
  {
   "cell_type": "markdown",
   "id": "1a2551bf",
   "metadata": {},
   "source": [
    "# Data Cleaning"
   ]
  },
  {
   "cell_type": "code",
   "execution_count": 197,
   "id": "93110f75",
   "metadata": {},
   "outputs": [
    {
     "data": {
      "text/html": [
       "<div>\n",
       "<style scoped>\n",
       "    .dataframe tbody tr th:only-of-type {\n",
       "        vertical-align: middle;\n",
       "    }\n",
       "\n",
       "    .dataframe tbody tr th {\n",
       "        vertical-align: top;\n",
       "    }\n",
       "\n",
       "    .dataframe thead th {\n",
       "        text-align: right;\n",
       "    }\n",
       "</style>\n",
       "<table border=\"1\" class=\"dataframe\">\n",
       "  <thead>\n",
       "    <tr style=\"text-align: right;\">\n",
       "      <th></th>\n",
       "      <th>MarketID</th>\n",
       "      <th>MarketSize</th>\n",
       "      <th>LocationID</th>\n",
       "      <th>AgeOfStore</th>\n",
       "      <th>Promotion</th>\n",
       "      <th>week</th>\n",
       "      <th>SalesInThousands</th>\n",
       "    </tr>\n",
       "  </thead>\n",
       "  <tbody>\n",
       "    <tr>\n",
       "      <th>0</th>\n",
       "      <td>1</td>\n",
       "      <td>Medium</td>\n",
       "      <td>1</td>\n",
       "      <td>4</td>\n",
       "      <td>3</td>\n",
       "      <td>1</td>\n",
       "      <td>33.73</td>\n",
       "    </tr>\n",
       "    <tr>\n",
       "      <th>1</th>\n",
       "      <td>1</td>\n",
       "      <td>Medium</td>\n",
       "      <td>1</td>\n",
       "      <td>4</td>\n",
       "      <td>3</td>\n",
       "      <td>2</td>\n",
       "      <td>35.67</td>\n",
       "    </tr>\n",
       "    <tr>\n",
       "      <th>2</th>\n",
       "      <td>1</td>\n",
       "      <td>Medium</td>\n",
       "      <td>1</td>\n",
       "      <td>4</td>\n",
       "      <td>3</td>\n",
       "      <td>3</td>\n",
       "      <td>29.03</td>\n",
       "    </tr>\n",
       "    <tr>\n",
       "      <th>3</th>\n",
       "      <td>1</td>\n",
       "      <td>Medium</td>\n",
       "      <td>1</td>\n",
       "      <td>4</td>\n",
       "      <td>3</td>\n",
       "      <td>4</td>\n",
       "      <td>39.25</td>\n",
       "    </tr>\n",
       "    <tr>\n",
       "      <th>4</th>\n",
       "      <td>1</td>\n",
       "      <td>Medium</td>\n",
       "      <td>2</td>\n",
       "      <td>5</td>\n",
       "      <td>2</td>\n",
       "      <td>1</td>\n",
       "      <td>27.81</td>\n",
       "    </tr>\n",
       "  </tbody>\n",
       "</table>\n",
       "</div>"
      ],
      "text/plain": [
       "   MarketID MarketSize  LocationID  AgeOfStore  Promotion  week  \\\n",
       "0         1     Medium           1           4          3     1   \n",
       "1         1     Medium           1           4          3     2   \n",
       "2         1     Medium           1           4          3     3   \n",
       "3         1     Medium           1           4          3     4   \n",
       "4         1     Medium           2           5          2     1   \n",
       "\n",
       "   SalesInThousands  \n",
       "0             33.73  \n",
       "1             35.67  \n",
       "2             29.03  \n",
       "3             39.25  \n",
       "4             27.81  "
      ]
     },
     "execution_count": 197,
     "metadata": {},
     "output_type": "execute_result"
    }
   ],
   "source": [
    "file=r\"C:\\Users\\gandj\\OneDrive\\Desktop\\Case_Study\\Statistics\\A_B_Testing\\ANOVA\\WA_Marketing_Campaign.csv\"\n",
    "df=pd.read_csv(file)\n",
    "df.head()"
   ]
  },
  {
   "cell_type": "markdown",
   "id": "9ca7d84b",
   "metadata": {},
   "source": [
    "Next, we want to get an idea of what kind of data set we are dealing with:"
   ]
  },
  {
   "cell_type": "code",
   "execution_count": 199,
   "id": "9a9b19ec",
   "metadata": {},
   "outputs": [
    {
     "name": "stdout",
     "output_type": "stream",
     "text": [
      "Unique values [ 1  2  3  4  5  6  7  8  9 10] for MarketID\n",
      "Unique values ['Medium' 'Small' 'Large'] for MarketSize\n",
      "Unique values [ 4  5 12  1 10 15  6 22  8 19 11 13  3  7  2 23  9 28 25 14 24 18 27 17\n",
      " 20] for AgeOfStore\n",
      "Unique values [3 2 1] for Promotion\n",
      "Unique values [1 2 3 4] for week\n"
     ]
    }
   ],
   "source": [
    "print('Unique values', df.MarketID.unique(),'for MarketID')\n",
    "print('Unique values', df.MarketSize.unique(),'for MarketSize')\n",
    "print('Unique values', df.AgeOfStore.unique(),'for AgeOfStore')\n",
    "print('Unique values', df.Promotion.unique(),'for Promotion')\n",
    "print('Unique values', df.week.unique(),'for week')"
   ]
  },
  {
   "cell_type": "markdown",
   "id": "610f30b0",
   "metadata": {},
   "source": [
    "- The data shows that we have ten different markets.\n",
    "\n",
    "- We have different market sizes from 'Small' to 'Large'.\n",
    "\n",
    "- We have an age range of the stores.\n",
    "\n",
    "- We have three campaign types, which only ran at a location for up to four weeks.\n",
    "\n",
    "\n",
    "Next, we check for any null values"
   ]
  },
  {
   "cell_type": "code",
   "execution_count": 201,
   "id": "ed3b8d81",
   "metadata": {},
   "outputs": [
    {
     "name": "stdout",
     "output_type": "stream",
     "text": [
      "<class 'pandas.core.frame.DataFrame'>\n",
      "RangeIndex: 548 entries, 0 to 547\n",
      "Data columns (total 7 columns):\n",
      " #   Column            Non-Null Count  Dtype  \n",
      "---  ------            --------------  -----  \n",
      " 0   MarketID          548 non-null    int64  \n",
      " 1   MarketSize        548 non-null    object \n",
      " 2   LocationID        548 non-null    int64  \n",
      " 3   AgeOfStore        548 non-null    int64  \n",
      " 4   Promotion         548 non-null    int64  \n",
      " 5   week              548 non-null    int64  \n",
      " 6   SalesInThousands  548 non-null    float64\n",
      "dtypes: float64(1), int64(5), object(1)\n",
      "memory usage: 30.1+ KB\n"
     ]
    }
   ],
   "source": [
    "df.info()"
   ]
  },
  {
   "cell_type": "code",
   "execution_count": 202,
   "id": "7fa88bce",
   "metadata": {},
   "outputs": [
    {
     "data": {
      "text/plain": [
       "MarketID            0\n",
       "MarketSize          0\n",
       "LocationID          0\n",
       "AgeOfStore          0\n",
       "Promotion           0\n",
       "week                0\n",
       "SalesInThousands    0\n",
       "dtype: int64"
      ]
     },
     "execution_count": 202,
     "metadata": {},
     "output_type": "execute_result"
    }
   ],
   "source": [
    "df.isnull().sum()"
   ]
  },
  {
   "cell_type": "markdown",
   "id": "a981a84a",
   "metadata": {},
   "source": [
    "As we can see, we do not have any null values, and all data types make sense. This data set is well prepared, but in real life, there is always some sort of cleaning required."
   ]
  },
  {
   "cell_type": "code",
   "execution_count": 204,
   "id": "257f2417",
   "metadata": {},
   "outputs": [],
   "source": [
    "col={'MarketID':'marketid', 'MarketSize':'marketsize', 'LocationID':'locationid',\n",
    "    'AgeOfStore':'ageofstore', 'Promotion':'promotion', 'week':'week',\n",
    "     'SalesInThousands':'promo_revenue'}\n",
    "df=df.rename(columns=col)\n",
    "df['promo_revenue']=df.promo_revenue*1000"
   ]
  },
  {
   "cell_type": "markdown",
   "id": "2dfc4bcd",
   "metadata": {},
   "source": [
    "# Exploratory Analysis"
   ]
  },
  {
   "cell_type": "code",
   "execution_count": 206,
   "id": "f763fca3",
   "metadata": {},
   "outputs": [
    {
     "data": {
      "text/html": [
       "<div>\n",
       "<style scoped>\n",
       "    .dataframe tbody tr th:only-of-type {\n",
       "        vertical-align: middle;\n",
       "    }\n",
       "\n",
       "    .dataframe tbody tr th {\n",
       "        vertical-align: top;\n",
       "    }\n",
       "\n",
       "    .dataframe thead th {\n",
       "        text-align: right;\n",
       "    }\n",
       "</style>\n",
       "<table border=\"1\" class=\"dataframe\">\n",
       "  <thead>\n",
       "    <tr style=\"text-align: right;\">\n",
       "      <th></th>\n",
       "      <th>marketid</th>\n",
       "      <th>marketsize</th>\n",
       "      <th>locationid</th>\n",
       "      <th>ageofstore</th>\n",
       "      <th>promotion</th>\n",
       "      <th>week</th>\n",
       "      <th>promo_revenue</th>\n",
       "    </tr>\n",
       "  </thead>\n",
       "  <tbody>\n",
       "    <tr>\n",
       "      <th>0</th>\n",
       "      <td>1</td>\n",
       "      <td>Medium</td>\n",
       "      <td>1</td>\n",
       "      <td>4</td>\n",
       "      <td>3</td>\n",
       "      <td>1</td>\n",
       "      <td>33730.0</td>\n",
       "    </tr>\n",
       "    <tr>\n",
       "      <th>1</th>\n",
       "      <td>1</td>\n",
       "      <td>Medium</td>\n",
       "      <td>1</td>\n",
       "      <td>4</td>\n",
       "      <td>3</td>\n",
       "      <td>2</td>\n",
       "      <td>35670.0</td>\n",
       "    </tr>\n",
       "    <tr>\n",
       "      <th>2</th>\n",
       "      <td>1</td>\n",
       "      <td>Medium</td>\n",
       "      <td>1</td>\n",
       "      <td>4</td>\n",
       "      <td>3</td>\n",
       "      <td>3</td>\n",
       "      <td>29030.0</td>\n",
       "    </tr>\n",
       "    <tr>\n",
       "      <th>3</th>\n",
       "      <td>1</td>\n",
       "      <td>Medium</td>\n",
       "      <td>1</td>\n",
       "      <td>4</td>\n",
       "      <td>3</td>\n",
       "      <td>4</td>\n",
       "      <td>39250.0</td>\n",
       "    </tr>\n",
       "    <tr>\n",
       "      <th>4</th>\n",
       "      <td>1</td>\n",
       "      <td>Medium</td>\n",
       "      <td>2</td>\n",
       "      <td>5</td>\n",
       "      <td>2</td>\n",
       "      <td>1</td>\n",
       "      <td>27810.0</td>\n",
       "    </tr>\n",
       "  </tbody>\n",
       "</table>\n",
       "</div>"
      ],
      "text/plain": [
       "   marketid marketsize  locationid  ageofstore  promotion  week  promo_revenue\n",
       "0         1     Medium           1           4          3     1        33730.0\n",
       "1         1     Medium           1           4          3     2        35670.0\n",
       "2         1     Medium           1           4          3     3        29030.0\n",
       "3         1     Medium           1           4          3     4        39250.0\n",
       "4         1     Medium           2           5          2     1        27810.0"
      ]
     },
     "execution_count": 206,
     "metadata": {},
     "output_type": "execute_result"
    }
   ],
   "source": [
    "df.head()"
   ]
  },
  {
   "cell_type": "code",
   "execution_count": 207,
   "id": "b3ecf8ec",
   "metadata": {},
   "outputs": [
    {
     "data": {
      "image/png": "[encoded data removed]",
      "text/plain": [
       "<Figure size 800x800 with 1 Axes>"
      ]
     },
     "metadata": {},
     "output_type": "display_data"
    },
    {
     "name": "stdout",
     "output_type": "stream",
     "text": [
      "None\n",
      "marketsize\n",
      "Medium    80\n",
      "Large     42\n",
      "Small     15\n",
      "Name: locationid, dtype: int64\n"
     ]
    }
   ],
   "source": [
    "#number of location in marketsizes\n",
    "df.groupby('marketsize')['locationid'].nunique().sort_values(ascending=False).plot(kind='pie',\n",
    "                                                                    figsize=(8,8),\n",
    "                                                                    autopct='%1.0f%%',\n",
    "                                                                    explode=(0.2,0,0))\n",
    "plt.ylabel('')\n",
    "print(plt.show())\n",
    "print(df.groupby('marketsize')['locationid'].nunique().sort_values(ascending=False))"
   ]
  },
  {
   "cell_type": "markdown",
   "id": "ad204b2f",
   "metadata": {},
   "source": [
    "As we can see, the majority of the locations are medium sized"
   ]
  },
  {
   "cell_type": "code",
   "execution_count": 209,
   "id": "5658cc47",
   "metadata": {},
   "outputs": [
    {
     "data": {
      "image/png": "[encoded data removed]",
      "text/plain": [
       "<Figure size 800x800 with 1 Axes>"
      ]
     },
     "metadata": {},
     "output_type": "display_data"
    },
    {
     "name": "stdout",
     "output_type": "stream",
     "text": [
      "None\n",
      "promotion\n",
      "1    172\n",
      "2    188\n",
      "3    188\n",
      "Name: marketsize, dtype: int64\n"
     ]
    }
   ],
   "source": [
    "#number of promotions in marketsizes\n",
    "df.groupby('promotion')['marketsize'].count().sort_values(ascending=False).plot(kind='pie',\n",
    "                                                                    figsize=(8,8),\n",
    "                                                                    autopct='%1.0f%%',\n",
    "                                                                    explode=(0,0,0))\n",
    "plt.ylabel('')\n",
    "print(plt.show())\n",
    "print(df.groupby('promotion')['marketsize'].count())"
   ]
  },
  {
   "cell_type": "markdown",
   "id": "b699e643",
   "metadata": {},
   "source": [
    "Here we can see that the different promotions are almost equally spread across the various market sizes.\n",
    "\n",
    "Next, we want to see how much money each promotion made."
   ]
  },
  {
   "cell_type": "code",
   "execution_count": 211,
   "id": "0eeecdf3",
   "metadata": {},
   "outputs": [
    {
     "data": {
      "image/png": "[encoded data removed]",
      "text/plain": [
       "<Figure size 800x800 with 1 Axes>"
      ]
     },
     "metadata": {},
     "output_type": "display_data"
    },
    {
     "name": "stdout",
     "output_type": "stream",
     "text": [
      "None\n",
      "promotion\n",
      "3    10408520.0\n",
      "1     9993030.0\n",
      "2     8897930.0\n",
      "Name: promo_revenue, dtype: float64\n"
     ]
    }
   ],
   "source": [
    "#sum of generated revenue by promotion\n",
    "df.groupby('promotion')['promo_revenue'].sum().plot(kind='pie', figsize=(8,8),\n",
    "                                                    autopct='%1.0f%%',\n",
    "                                                   explode=(0,0,0.2))\n",
    "plt.ylabel('')\n",
    "print(plt.show())\n",
    "print(df.groupby('promotion')['promo_revenue'].sum().sort_values(ascending=False))"
   ]
  },
  {
   "cell_type": "markdown",
   "id": "ed2205c2",
   "metadata": {},
   "source": [
    "From a pure descriptive/aggregation perspective, Promotion 3 has generated the most money over four weeks.\n",
    "\n",
    "How did each promotion perform over the four-week run time?"
   ]
  },
  {
   "cell_type": "code",
   "execution_count": 213,
   "id": "da1687a3",
   "metadata": {},
   "outputs": [
    {
     "data": {
      "text/plain": [
       "(array([0, 1, 2]), [Text(0, 0, '1'), Text(1, 0, '2'), Text(2, 0, '3')])"
      ]
     },
     "execution_count": 213,
     "metadata": {},
     "output_type": "execute_result"
    },
    {
     "data": {
      "image/png": "[encoded data removed]",
      "text/plain": [
       "<Figure size 800x800 with 1 Axes>"
      ]
     },
     "metadata": {},
     "output_type": "display_data"
    }
   ],
   "source": [
    "#revenue breakdown by week and promotion\n",
    "ax=df.groupby(['promotion', 'week'])['promo_revenue'].sum().unstack('week')\n",
    "ax.plot(kind='bar', figsize=(8,8))\n",
    "plt.title('Revenue in Mio broken down by Week and Promotion', size=20)\n",
    "plt.xticks(rotation=0)"
   ]
  },
  {
   "cell_type": "markdown",
   "id": "31a1adb5",
   "metadata": {},
   "source": [
    "We also can get an idea of how the age of the stores is distributed."
   ]
  },
  {
   "cell_type": "code",
   "execution_count": 215,
   "id": "4a40f32f",
   "metadata": {},
   "outputs": [
    {
     "data": {
      "text/plain": [
       "Text(0.5, 1.0, 'Age Distribution of Locations')"
      ]
     },
     "execution_count": 215,
     "metadata": {},
     "output_type": "execute_result"
    },
    {
     "data": {
      "image/png": "[encoded data removed]",
      "text/plain": [
       "<Figure size 640x480 with 1 Axes>"
      ]
     },
     "metadata": {},
     "output_type": "display_data"
    }
   ],
   "source": [
    "#distribution of age of the book stores\n",
    "sns.histplot(df.ageofstore, bins='fd',kde=True)\n",
    "plt.xlabel('Age of the Store')\n",
    "plt.title('Age Distribution of Locations')"
   ]
  },
  {
   "cell_type": "markdown",
   "id": "463c5334",
   "metadata": {},
   "source": [
    "We can see that the majority of locations are relativley young, which we can see in the output below"
   ]
  },
  {
   "cell_type": "code",
   "execution_count": 217,
   "id": "c124a06c",
   "metadata": {},
   "outputs": [
    {
     "name": "stdout",
     "output_type": "stream",
     "text": [
      "ageofstore\n",
      "1    15.0\n",
      "5     8.0\n",
      "4     8.0\n",
      "7     7.0\n",
      "8     7.0\n",
      "6     7.0\n",
      "3     6.0\n",
      "9     5.0\n",
      "Name: count, dtype: float64\n",
      "63.0\n"
     ]
    }
   ],
   "source": [
    "print((round((df.ageofstore.value_counts().sort_values(ascending=False)/len(df.ageofstore))*100))[:8])\n",
    "print(((round((df.ageofstore.value_counts().sort_values(ascending=False)/len(df.ageofstore))*100))[:8]).sum())"
   ]
  },
  {
   "cell_type": "markdown",
   "id": "013d03c2",
   "metadata": {},
   "source": [
    "We can see, that majority of the data is in the range between 1-8 years"
   ]
  },
  {
   "cell_type": "markdown",
   "id": "dac60346",
   "metadata": {},
   "source": [
    "# Comparing the Marketing Campaigns"
   ]
  },
  {
   "cell_type": "markdown",
   "id": "d4133c0a",
   "metadata": {},
   "source": [
    "As already stated, we want to determine which campaign(s) were the most effective one(s) in generating revenue with the new item.\n",
    "This will be done with an A/B Test, specifically a one-way ANOVA.\n",
    "Why a one-way ANOVA? We are comparing three different means from three different groups, the means of the revenue from different promotions.\n",
    "It is very common for statistical tests to have certain assumptions fulfilled to perform a test. This rule also applies to a one-way ANOVA.\n",
    "\n",
    "\n",
    "The assumptions are:\n",
    "- Independence\n",
    "\n",
    "- Equal variance\n",
    "\n",
    "- Normal distribution"
   ]
  },
  {
   "cell_type": "markdown",
   "id": "69dd546d",
   "metadata": {},
   "source": [
    "## Independence"
   ]
  },
  {
   "cell_type": "markdown",
   "id": "cdd0af1b",
   "metadata": {},
   "source": [
    "To do a one-way ANOVA, we need three or more independent samples where only one variable/single factor is considered.\n",
    "\n",
    "This is the case in our test. We have three different promotions, and our variable is the revenue generated by the promotions. So we can move on to the next assumption, equal variance."
   ]
  },
  {
   "cell_type": "markdown",
   "id": "0800309d",
   "metadata": {},
   "source": [
    "## Equal variance between groups"
   ]
  },
  {
   "cell_type": "code",
   "execution_count": 224,
   "id": "365c443e",
   "metadata": {},
   "outputs": [
    {
     "data": {
      "text/html": [
       "<div>\n",
       "<style scoped>\n",
       "    .dataframe tbody tr th:only-of-type {\n",
       "        vertical-align: middle;\n",
       "    }\n",
       "\n",
       "    .dataframe tbody tr th {\n",
       "        vertical-align: top;\n",
       "    }\n",
       "\n",
       "    .dataframe thead th {\n",
       "        text-align: right;\n",
       "    }\n",
       "</style>\n",
       "<table border=\"1\" class=\"dataframe\">\n",
       "  <thead>\n",
       "    <tr style=\"text-align: right;\">\n",
       "      <th></th>\n",
       "      <th>marketid</th>\n",
       "      <th>marketsize</th>\n",
       "      <th>locationid</th>\n",
       "      <th>ageofstore</th>\n",
       "      <th>promotion</th>\n",
       "      <th>week</th>\n",
       "      <th>promo_revenue</th>\n",
       "    </tr>\n",
       "  </thead>\n",
       "  <tbody>\n",
       "    <tr>\n",
       "      <th>0</th>\n",
       "      <td>1</td>\n",
       "      <td>Medium</td>\n",
       "      <td>1</td>\n",
       "      <td>4</td>\n",
       "      <td>3</td>\n",
       "      <td>1</td>\n",
       "      <td>33730.0</td>\n",
       "    </tr>\n",
       "    <tr>\n",
       "      <th>1</th>\n",
       "      <td>1</td>\n",
       "      <td>Medium</td>\n",
       "      <td>1</td>\n",
       "      <td>4</td>\n",
       "      <td>3</td>\n",
       "      <td>2</td>\n",
       "      <td>35670.0</td>\n",
       "    </tr>\n",
       "    <tr>\n",
       "      <th>2</th>\n",
       "      <td>1</td>\n",
       "      <td>Medium</td>\n",
       "      <td>1</td>\n",
       "      <td>4</td>\n",
       "      <td>3</td>\n",
       "      <td>3</td>\n",
       "      <td>29030.0</td>\n",
       "    </tr>\n",
       "    <tr>\n",
       "      <th>3</th>\n",
       "      <td>1</td>\n",
       "      <td>Medium</td>\n",
       "      <td>1</td>\n",
       "      <td>4</td>\n",
       "      <td>3</td>\n",
       "      <td>4</td>\n",
       "      <td>39250.0</td>\n",
       "    </tr>\n",
       "    <tr>\n",
       "      <th>4</th>\n",
       "      <td>1</td>\n",
       "      <td>Medium</td>\n",
       "      <td>2</td>\n",
       "      <td>5</td>\n",
       "      <td>2</td>\n",
       "      <td>1</td>\n",
       "      <td>27810.0</td>\n",
       "    </tr>\n",
       "  </tbody>\n",
       "</table>\n",
       "</div>"
      ],
      "text/plain": [
       "   marketid marketsize  locationid  ageofstore  promotion  week  promo_revenue\n",
       "0         1     Medium           1           4          3     1        33730.0\n",
       "1         1     Medium           1           4          3     2        35670.0\n",
       "2         1     Medium           1           4          3     3        29030.0\n",
       "3         1     Medium           1           4          3     4        39250.0\n",
       "4         1     Medium           2           5          2     1        27810.0"
      ]
     },
     "execution_count": 224,
     "metadata": {},
     "output_type": "execute_result"
    }
   ],
   "source": [
    "df.head()"
   ]
  },
  {
   "cell_type": "code",
   "execution_count": 225,
   "id": "31bb4390",
   "metadata": {},
   "outputs": [
    {
     "data": {
      "text/html": [
       "<div>\n",
       "<style scoped>\n",
       "    .dataframe tbody tr th:only-of-type {\n",
       "        vertical-align: middle;\n",
       "    }\n",
       "\n",
       "    .dataframe tbody tr th {\n",
       "        vertical-align: top;\n",
       "    }\n",
       "\n",
       "    .dataframe thead th {\n",
       "        text-align: right;\n",
       "    }\n",
       "</style>\n",
       "<table border=\"1\" class=\"dataframe\">\n",
       "  <thead>\n",
       "    <tr style=\"text-align: right;\">\n",
       "      <th></th>\n",
       "      <th>count</th>\n",
       "      <th>mean</th>\n",
       "      <th>std</th>\n",
       "      <th>min</th>\n",
       "      <th>25%</th>\n",
       "      <th>50%</th>\n",
       "      <th>75%</th>\n",
       "      <th>max</th>\n",
       "    </tr>\n",
       "    <tr>\n",
       "      <th>promotion</th>\n",
       "      <th></th>\n",
       "      <th></th>\n",
       "      <th></th>\n",
       "      <th></th>\n",
       "      <th></th>\n",
       "      <th></th>\n",
       "      <th></th>\n",
       "      <th></th>\n",
       "    </tr>\n",
       "  </thead>\n",
       "  <tbody>\n",
       "    <tr>\n",
       "      <th>1</th>\n",
       "      <td>172.0</td>\n",
       "      <td>58099.011628</td>\n",
       "      <td>16553.781698</td>\n",
       "      <td>30810.0</td>\n",
       "      <td>46352.5</td>\n",
       "      <td>55385.0</td>\n",
       "      <td>63617.5</td>\n",
       "      <td>99650.0</td>\n",
       "    </tr>\n",
       "    <tr>\n",
       "      <th>2</th>\n",
       "      <td>188.0</td>\n",
       "      <td>47329.414894</td>\n",
       "      <td>15108.954783</td>\n",
       "      <td>17340.0</td>\n",
       "      <td>38170.0</td>\n",
       "      <td>45385.0</td>\n",
       "      <td>51745.0</td>\n",
       "      <td>88640.0</td>\n",
       "    </tr>\n",
       "    <tr>\n",
       "      <th>3</th>\n",
       "      <td>188.0</td>\n",
       "      <td>55364.468085</td>\n",
       "      <td>16766.230774</td>\n",
       "      <td>22180.0</td>\n",
       "      <td>44197.5</td>\n",
       "      <td>51165.0</td>\n",
       "      <td>61732.5</td>\n",
       "      <td>96480.0</td>\n",
       "    </tr>\n",
       "  </tbody>\n",
       "</table>\n",
       "</div>"
      ],
      "text/plain": [
       "           count          mean           std      min      25%      50%  \\\n",
       "promotion                                                                 \n",
       "1          172.0  58099.011628  16553.781698  30810.0  46352.5  55385.0   \n",
       "2          188.0  47329.414894  15108.954783  17340.0  38170.0  45385.0   \n",
       "3          188.0  55364.468085  16766.230774  22180.0  44197.5  51165.0   \n",
       "\n",
       "               75%      max  \n",
       "promotion                    \n",
       "1          63617.5  99650.0  \n",
       "2          51745.0  88640.0  \n",
       "3          61732.5  96480.0  "
      ]
     },
     "execution_count": 225,
     "metadata": {},
     "output_type": "execute_result"
    }
   ],
   "source": [
    "df.groupby(['promotion'])['promo_revenue'].describe()"
   ]
  },
  {
   "cell_type": "markdown",
   "id": "82ac94bc",
   "metadata": {},
   "source": [
    "When we compare the standard deviations of the promotions we do notice a difference."
   ]
  },
  {
   "cell_type": "code",
   "execution_count": 227,
   "id": "317000dd",
   "metadata": {},
   "outputs": [
    {
     "data": {
      "text/plain": [
       "<Axes: xlabel='promotion', ylabel='promo_revenue'>"
      ]
     },
     "execution_count": 227,
     "metadata": {},
     "output_type": "execute_result"
    },
    {
     "data": {
      "image/png": "[encoded data removed]",
      "text/plain": [
       "<Figure size 1000x1000 with 1 Axes>"
      ]
     },
     "metadata": {},
     "output_type": "display_data"
    }
   ],
   "source": [
    "plt.figure(figsize=(10,10))\n",
    "ax=df[['promotion', 'promo_revenue']]\n",
    "sns.boxplot(data=ax, x='promotion', y='promo_revenue',palette=sns.color_palette())"
   ]
  },
  {
   "cell_type": "markdown",
   "id": "19f29f0e",
   "metadata": {},
   "source": [
    "When we compare the boxplots, we see a familiar picture, and the difference between promotions 1 and 3 does not seem dramatic.\n",
    "\n",
    "To better understand the variance between the three promotions, we calculate the IQR and Levene test."
   ]
  },
  {
   "cell_type": "code",
   "execution_count": 229,
   "id": "8a30f4a9",
   "metadata": {},
   "outputs": [
    {
     "name": "stdout",
     "output_type": "stream",
     "text": [
      "17265.0\n",
      "13575.0\n",
      "17535.0\n"
     ]
    }
   ],
   "source": [
    "pro1=df[df.promotion==1]['promo_revenue']\n",
    "np.percentile(pro1,25)\n",
    "np.percentile(pro1,75)\n",
    "IQR1=np.percentile(pro1,75)-np.percentile(pro1,25)\n",
    "IQR1\n",
    "\n",
    "\n",
    "pro2=df[df.promotion==2]['promo_revenue']\n",
    "np.percentile(pro2,25)\n",
    "np.percentile(pro2,75)\n",
    "IQR2=np.percentile(pro2,75)-np.percentile(pro2,25)\n",
    "IQR2\n",
    "\n",
    "\n",
    "pro3=df[df.promotion==3]['promo_revenue']\n",
    "np.percentile(pro3,25)\n",
    "np.percentile(pro3,75)\n",
    "IQR3=np.percentile(pro3,75)-np.percentile(pro3,25)\n",
    "IQR3\n",
    "\n",
    "print(IQR1)\n",
    "print(IQR2)\n",
    "print(IQR3)"
   ]
  },
  {
   "cell_type": "code",
   "execution_count": 230,
   "id": "2e479b5a",
   "metadata": {},
   "outputs": [
    {
     "name": "stdout",
     "output_type": "stream",
     "text": [
      "Levene Test for Mean: 2.159015566629311, p-value: 0.11642505194921923\n",
      "Levene Test for Median: 1.2696787527507458, p-value: 0.2817514565692118\n"
     ]
    }
   ],
   "source": [
    "l1, p1=stats.levene(pro1, pro2, pro3, center='mean')\n",
    "\n",
    "l2, p2=stats.levene(pro1, pro2, pro3, center='median')\n",
    "\n",
    "\n",
    "print('Levene Test for Mean: {}, p-value: {}'.format(l1, p1))\n",
    "print('Levene Test for Median: {}, p-value: {}'.format(l2, p2))"
   ]
  },
  {
   "cell_type": "markdown",
   "id": "b9605712",
   "metadata": {},
   "source": [
    "We conclude that we have equal variance by comparing the standard deviation, the IQRs and doing a Levene test."
   ]
  },
  {
   "cell_type": "markdown",
   "id": "f06dc5e5",
   "metadata": {},
   "source": [
    "## Normal Distribution"
   ]
  },
  {
   "cell_type": "code",
   "execution_count": 233,
   "id": "1b3c010e",
   "metadata": {},
   "outputs": [
    {
     "data": {
      "text/plain": [
       "(15548.481256149462, -1.4445696869035707e-11, 0.9609831753781222)"
      ]
     },
     "execution_count": 233,
     "metadata": {},
     "output_type": "execute_result"
    },
    {
     "data": {
      "image/png": "[encoded data removed]",
      "text/plain": [
       "<Figure size 640x480 with 1 Axes>"
      ]
     },
     "metadata": {},
     "output_type": "display_data"
    }
   ],
   "source": [
    "import scipy.stats as stats\n",
    "from statsmodels.formula.api import ols\n",
    "import statsmodels.api as sm\n",
    "\n",
    "resid=ols('promo_revenue ~ C(promotion)', data=df).fit()\n",
    "residulas=resid.resid\n",
    "\n",
    "stats.probplot(residulas, dist='norm', plot=plt)[1]"
   ]
  },
  {
   "cell_type": "markdown",
   "id": "ab26063f",
   "metadata": {},
   "source": [
    "As we can see, we are not dealing with a non-normal distribution of resdiuals."
   ]
  },
  {
   "cell_type": "markdown",
   "id": "d5f46e83",
   "metadata": {},
   "source": [
    "## Assumptions of Kruskal-Wallis Test"
   ]
  },
  {
   "cell_type": "markdown",
   "id": "692413b9",
   "metadata": {},
   "source": [
    "- The variable of interest is continous=> check revenue is continous\n",
    "- The samples are indepdent=> check\n",
    "- No normal distribution=> check"
   ]
  },
  {
   "cell_type": "markdown",
   "id": "071ec591",
   "metadata": {},
   "source": [
    "This means we can run our analysis by using the Kruskal-Wallis Test."
   ]
  },
  {
   "cell_type": "markdown",
   "id": "44568ee4",
   "metadata": {},
   "source": [
    "## Analysis"
   ]
  },
  {
   "cell_type": "markdown",
   "id": "a768db29",
   "metadata": {},
   "source": [
    "H0=> There is no difference between the three revenue means.\n",
    "\n",
    "H1=> There is a statistically significant difference between the three revenue means."
   ]
  },
  {
   "cell_type": "code",
   "execution_count": 325,
   "id": "a69c13b2",
   "metadata": {},
   "outputs": [
    {
     "name": "stdout",
     "output_type": "stream",
     "text": [
      "P-value of the Kruskal-Wallis Test: 0.0000000000026741866266697816091474007501\n"
     ]
    }
   ],
   "source": [
    "from scipy.stats import kruskal\n",
    "#Is there a difference between the two means\n",
    "f, p=kruskal(pro1, pro2, pro3)\n",
    "print('P-value of the Kruskal-Wallis Test: {:.40f}'.format(p))"
   ]
  },
  {
   "cell_type": "markdown",
   "id": "fd59123b",
   "metadata": {},
   "source": [
    "The outcome of the Kruskal Wallis Test indicates that we have a statistically significant difference between the means of the three promotions.\n",
    "\n",
    "Next, we will use the Dunn Test to determine which groups are statistically significantly different from each other."
   ]
  },
  {
   "cell_type": "markdown",
   "id": "6812ff07",
   "metadata": {},
   "source": [
    "H0=> The mean rank between the two groups is equal.\n",
    "\n",
    "H1=> The mean rank between the two groups is not equal."
   ]
  },
  {
   "cell_type": "code",
   "execution_count": 329,
   "id": "004ec5cd",
   "metadata": {},
   "outputs": [
    {
     "data": {
      "text/html": [
       "<div>\n",
       "<style scoped>\n",
       "    .dataframe tbody tr th:only-of-type {\n",
       "        vertical-align: middle;\n",
       "    }\n",
       "\n",
       "    .dataframe tbody tr th {\n",
       "        vertical-align: top;\n",
       "    }\n",
       "\n",
       "    .dataframe thead th {\n",
       "        text-align: right;\n",
       "    }\n",
       "</style>\n",
       "<table border=\"1\" class=\"dataframe\">\n",
       "  <thead>\n",
       "    <tr style=\"text-align: right;\">\n",
       "      <th></th>\n",
       "      <th>1</th>\n",
       "      <th>2</th>\n",
       "      <th>3</th>\n",
       "    </tr>\n",
       "  </thead>\n",
       "  <tbody>\n",
       "    <tr>\n",
       "      <th>1</th>\n",
       "      <td>False</td>\n",
       "      <td>True</td>\n",
       "      <td>False</td>\n",
       "    </tr>\n",
       "    <tr>\n",
       "      <th>2</th>\n",
       "      <td>True</td>\n",
       "      <td>False</td>\n",
       "      <td>True</td>\n",
       "    </tr>\n",
       "    <tr>\n",
       "      <th>3</th>\n",
       "      <td>False</td>\n",
       "      <td>True</td>\n",
       "      <td>False</td>\n",
       "    </tr>\n",
       "  </tbody>\n",
       "</table>\n",
       "</div>"
      ],
      "text/plain": [
       "       1      2      3\n",
       "1  False   True  False\n",
       "2   True  False   True\n",
       "3  False   True  False"
      ]
     },
     "execution_count": 329,
     "metadata": {},
     "output_type": "execute_result"
    }
   ],
   "source": [
    "#!pip install scikit_posthocs\n",
    "import scikit_posthocs as sp\n",
    "data=[pro1, pro2, pro3]\n",
    "result=sp.posthoc_dunn(data, p_adjust='bonferroni')\n",
    "result<0.05"
   ]
  },
  {
   "cell_type": "markdown",
   "id": "d75917c6",
   "metadata": {},
   "source": [
    "Here we can see a statistically significant difference between the groups 2 & 1 and 2 & 3.\n",
    "\n",
    "But there is no statistically significant difference between 1 & 3. Our goal is to determine which promotion(s) is/are the most effective one(s).\n",
    "\n",
    "But how big is the difference between the promotions? That effect/magnitude will be determined with Eta-squared."
   ]
  },
  {
   "cell_type": "code",
   "execution_count": 340,
   "id": "be412ca5-1c27-442b-afee-5f3f8ffb0a95",
   "metadata": {},
   "outputs": [
    {
     "name": "stdout",
     "output_type": "stream",
     "text": [
      "The effect size (eta squared) between Promo 1, 2 & 3: 0.9638302019856083147075764827604871243238\n"
     ]
    }
   ],
   "source": [
    "# Calculate degrees of freedom\n",
    "df_between = len(df['promotion'].unique()) - 1\n",
    "df_total = len(pro1) + len(pro2) + len(pro3) - 1\n",
    "\n",
    "# Sum of squares within (SS_within)\n",
    "SS_within = ((len(pro1) - 1) * np.var(pro1, ddof=1) +\n",
    "             (len(pro2) - 1) * np.var(pro2, ddof=1) +\n",
    "             (len(pro3) - 1) * np.var(pro3, ddof=1))\n",
    "\n",
    "# Sum of squares between (SS_between)\n",
    "SS_between = f * SS_within / df_between\n",
    "\n",
    "# Total sum of squares (SS_total)\n",
    "SS_total = SS_between + SS_within\n",
    "\n",
    "# Eta squared\n",
    "eta_squared = SS_between / SS_total\n",
    "print('The effect size (eta squared) between Promo 1, 2 & 3: {:.40f}'.format(eta_squared))"
   ]
  },
  {
   "cell_type": "markdown",
   "id": "a4013018",
   "metadata": {},
   "source": [
    "As we can see, the effect size is very big, a good/big effect size would be 0.7, we are far above that.\n",
    "\n",
    "In the beginning, I have stated that we want to find out which promotion we should choose. At this point we know which promotions are statistically different, but which one is the best? This decision will be supported by the median of each promotion."
   ]
  },
  {
   "cell_type": "code",
   "execution_count": 247,
   "id": "91f2d2d3",
   "metadata": {},
   "outputs": [
    {
     "data": {
      "text/plain": [
       "promotion\n",
       "1    55385.0\n",
       "2    45385.0\n",
       "3    51165.0\n",
       "Name: promo_revenue, dtype: float64"
      ]
     },
     "execution_count": 247,
     "metadata": {},
     "output_type": "execute_result"
    }
   ],
   "source": [
    "df.groupby('promotion')['promo_revenue'].median()"
   ]
  },
  {
   "cell_type": "markdown",
   "id": "c2b50e69",
   "metadata": {},
   "source": [
    "The median will allow us to understand better the Dunn test, which will enable us to answer our questions about which promotion(s) is the most effective one(s). The two most effective promotions are 1 and 3 since they are not statistically significantly different from each other and have the highest medians. Promotion 2 is the least effective. This statement is supported by the fact that promotion 2 has the smallest median, and this promotion is significantly different from the other two promotions.\n",
    "\n",
    "Next, we want to see how the promotions perform in the different market sizes."
   ]
  },
  {
   "cell_type": "code",
   "execution_count": 249,
   "id": "fcfed83b-82d7-4057-b4e0-034832158e1e",
   "metadata": {},
   "outputs": [
    {
     "name": "stdout",
     "output_type": "stream",
     "text": [
      "Levene Test for Mean: 31.098900228095644, p-value: 0.0000000000000000000000000000000000000004\n",
      "Levene Test for Median: 15.981442082318468, p-value: 0.0000000000000000000030126877394281979994\n"
     ]
    }
   ],
   "source": [
    "#we have independence between the different promotions in different marketsizes\n",
    "#test for equal variance\n",
    "pro1_small=df[(df['promotion']==1) & (df['marketsize']=='Small')]['promo_revenue']\n",
    "pro1_medium=df[(df['promotion']==1) & (df['marketsize']=='Medium')]['promo_revenue']\n",
    "pro1_large=df[(df['promotion']==1) & (df['marketsize']=='Large')]['promo_revenue']\n",
    "\n",
    "pro2_small=df[(df['promotion']==2) & (df['marketsize']=='Small')]['promo_revenue']\n",
    "pro2_medium=df[(df['promotion']==2) & (df['marketsize']=='Medium')]['promo_revenue']\n",
    "pro2_large=df[(df['promotion']==2) & (df['marketsize']=='Large')]['promo_revenue']\n",
    "\n",
    "pro3_small=df[(df['promotion']==3) & (df['marketsize']=='Small')]['promo_revenue']\n",
    "pro3_medium=df[(df['promotion']==3) & (df['marketsize']=='Medium')]['promo_revenue']\n",
    "pro3_large=df[(df['promotion']==3) & (df['marketsize']=='Large')]['promo_revenue']\n",
    "\n",
    "lemean, pmean=stats.levene(pro1_small, pro1_medium, pro1_large,\n",
    "                           pro2_small, pro2_medium, pro2_large,\n",
    "                           pro3_small, pro3_medium, pro3_large,\n",
    "                           center='mean')\n",
    "\n",
    "lemedian, pmedian=stats.levene(pro1_small, pro1_medium, pro1_large, pro2_small,\n",
    "                               pro2_medium, pro2_large, pro3_small, pro3_medium,\n",
    "                               pro3_large, center='median')\n",
    "\n",
    "\n",
    "print('Levene Test for Mean: {}, p-value: {:.40f}'.format(lemean, pmean))\n",
    "print('Levene Test for Median: {}, p-value: {:.40f}'.format(lemedian, pmedian))"
   ]
  },
  {
   "cell_type": "code",
   "execution_count": 250,
   "id": "d99d4fab-6530-441f-9f34-d750cdc00323",
   "metadata": {},
   "outputs": [
    {
     "data": {
      "text/html": [
       "<div>\n",
       "<style scoped>\n",
       "    .dataframe tbody tr th:only-of-type {\n",
       "        vertical-align: middle;\n",
       "    }\n",
       "\n",
       "    .dataframe tbody tr th {\n",
       "        vertical-align: top;\n",
       "    }\n",
       "\n",
       "    .dataframe thead th {\n",
       "        text-align: right;\n",
       "    }\n",
       "</style>\n",
       "<table border=\"1\" class=\"dataframe\">\n",
       "  <thead>\n",
       "    <tr style=\"text-align: right;\">\n",
       "      <th></th>\n",
       "      <th>promotion</th>\n",
       "      <th>marketsize</th>\n",
       "      <th>promo_revenue</th>\n",
       "    </tr>\n",
       "  </thead>\n",
       "  <tbody>\n",
       "    <tr>\n",
       "      <th>0</th>\n",
       "      <td>1</td>\n",
       "      <td>Large</td>\n",
       "      <td>240172413</td>\n",
       "    </tr>\n",
       "    <tr>\n",
       "      <th>1</th>\n",
       "      <td>1</td>\n",
       "      <td>Medium</td>\n",
       "      <td>65081821</td>\n",
       "    </tr>\n",
       "    <tr>\n",
       "      <th>2</th>\n",
       "      <td>1</td>\n",
       "      <td>Small</td>\n",
       "      <td>26288988</td>\n",
       "    </tr>\n",
       "    <tr>\n",
       "      <th>3</th>\n",
       "      <td>2</td>\n",
       "      <td>Large</td>\n",
       "      <td>247386635</td>\n",
       "    </tr>\n",
       "    <tr>\n",
       "      <th>4</th>\n",
       "      <td>2</td>\n",
       "      <td>Medium</td>\n",
       "      <td>77570417</td>\n",
       "    </tr>\n",
       "    <tr>\n",
       "      <th>5</th>\n",
       "      <td>2</td>\n",
       "      <td>Small</td>\n",
       "      <td>34454739</td>\n",
       "    </tr>\n",
       "    <tr>\n",
       "      <th>6</th>\n",
       "      <td>3</td>\n",
       "      <td>Large</td>\n",
       "      <td>207368760</td>\n",
       "    </tr>\n",
       "    <tr>\n",
       "      <th>7</th>\n",
       "      <td>3</td>\n",
       "      <td>Medium</td>\n",
       "      <td>65470206</td>\n",
       "    </tr>\n",
       "    <tr>\n",
       "      <th>8</th>\n",
       "      <td>3</td>\n",
       "      <td>Small</td>\n",
       "      <td>27172103</td>\n",
       "    </tr>\n",
       "  </tbody>\n",
       "</table>\n",
       "</div>"
      ],
      "text/plain": [
       "   promotion marketsize  promo_revenue\n",
       "0          1      Large      240172413\n",
       "1          1     Medium       65081821\n",
       "2          1      Small       26288988\n",
       "3          2      Large      247386635\n",
       "4          2     Medium       77570417\n",
       "5          2      Small       34454739\n",
       "6          3      Large      207368760\n",
       "7          3     Medium       65470206\n",
       "8          3      Small       27172103"
      ]
     },
     "execution_count": 250,
     "metadata": {},
     "output_type": "execute_result"
    }
   ],
   "source": [
    "var=df.groupby(['promotion','marketsize'])['promo_revenue'].var().to_frame().reset_index()\n",
    "var['promo_revenue']=var['promo_revenue'].astype(int)\n",
    "var"
   ]
  },
  {
   "cell_type": "code",
   "execution_count": 251,
   "id": "7b3500e9-af47-44e7-b0db-710a14b74d56",
   "metadata": {},
   "outputs": [
    {
     "data": {
      "text/plain": [
       "<Axes: xlabel='promotion', ylabel='promo_revenue'>"
      ]
     },
     "execution_count": 251,
     "metadata": {},
     "output_type": "execute_result"
    },
    {
     "data": {
      "image/png": "[encoded data removed]",
      "text/plain": [
       "<Figure size 1000x1000 with 1 Axes>"
      ]
     },
     "metadata": {},
     "output_type": "display_data"
    }
   ],
   "source": [
    "plt.figure(figsize=(10,10))\n",
    "ax=df[['promotion', 'promo_revenue', 'marketsize']]\n",
    "sns.boxplot(data=ax, x='promotion', y='promo_revenue', hue='marketsize', palette=sns.color_palette())"
   ]
  },
  {
   "cell_type": "markdown",
   "id": "08295b5b-477b-4027-a41a-702df5691541",
   "metadata": {},
   "source": [
    "If we compare each market size, we can see that the variance is not really different from each other, but we can see that the larger the market size, the larger the revenue. But if we compare the different market sizes, we can see the revenue is not the same. This becomes even more obvious when we look at the box plots. Here we can see some big differences between the different market sizes and promotions.\n",
    "\n",
    "Based on this information, we do not have the same variance. Next we test for normality."
   ]
  },
  {
   "cell_type": "code",
   "execution_count": 253,
   "id": "0131689d-fb70-4fa1-877c-f7db0f5468e8",
   "metadata": {},
   "outputs": [
    {
     "data": {
      "text/plain": [
       "(10687.460654432398, -1.189645624508823e-11, 0.9984942189147423)"
      ]
     },
     "execution_count": 253,
     "metadata": {},
     "output_type": "execute_result"
    },
    {
     "data": {
      "image/png": "[encoded data removed]",
      "text/plain": [
       "<Figure size 640x480 with 1 Axes>"
      ]
     },
     "metadata": {},
     "output_type": "display_data"
    }
   ],
   "source": [
    "import scipy.stats as stats\n",
    "from statsmodels.formula.api import ols\n",
    "import statsmodels.api as sm\n",
    "\n",
    "resid=ols('promo_revenue ~ C(promotion) * C(marketsize)', data=df).fit()\n",
    "residulas=resid.resid\n",
    "\n",
    "stats.probplot(residulas, dist='norm', plot=plt)[1]"
   ]
  },
  {
   "cell_type": "markdown",
   "id": "4b20296b-3850-40bf-8004-9d0e45889f52",
   "metadata": {},
   "source": [
    "When we seperate the revenue by promotion and marketize, then the residuals will follow a normal distribution.\n",
    "\n",
    "So we can state, we are dealing with non-equal variance and the residuals do follow a normal distribution, therefore we will use the Welch's ANOVA.\n",
    "\n",
    "The Welch's ANOVA does not assume equal variance and can be used in a two way structured test.\n",
    "\n",
    "2 Factors\n",
    "- Market Size => Levels: Small, Medium and Large\n",
    "- Promotion => Levels: Promotion 1, Promotion 2 and Promotion 3"
   ]
  },
  {
   "cell_type": "code",
   "execution_count": 315,
   "id": "6e42a76c-5d49-4765-a708-1078e0f71e5d",
   "metadata": {},
   "outputs": [
    {
     "data": {
      "text/html": [
       "<div>\n",
       "<style scoped>\n",
       "    .dataframe tbody tr th:only-of-type {\n",
       "        vertical-align: middle;\n",
       "    }\n",
       "\n",
       "    .dataframe tbody tr th {\n",
       "        vertical-align: top;\n",
       "    }\n",
       "\n",
       "    .dataframe thead th {\n",
       "        text-align: right;\n",
       "    }\n",
       "</style>\n",
       "<table border=\"1\" class=\"dataframe\">\n",
       "  <thead>\n",
       "    <tr style=\"text-align: right;\">\n",
       "      <th></th>\n",
       "      <th>df</th>\n",
       "      <th>sum_sq</th>\n",
       "      <th>mean_sq</th>\n",
       "      <th>F</th>\n",
       "      <th>PR(&gt;F)</th>\n",
       "    </tr>\n",
       "  </thead>\n",
       "  <tbody>\n",
       "    <tr>\n",
       "      <th>C(promotion)</th>\n",
       "      <td>2.0</td>\n",
       "      <td>1.144917e+10</td>\n",
       "      <td>5.724587e+09</td>\n",
       "      <td>49.611480</td>\n",
       "      <td>0.000000</td>\n",
       "    </tr>\n",
       "    <tr>\n",
       "      <th>C(marketsize)</th>\n",
       "      <td>2.0</td>\n",
       "      <td>7.780304e+10</td>\n",
       "      <td>3.890152e+10</td>\n",
       "      <td>337.135582</td>\n",
       "      <td>0.000000</td>\n",
       "    </tr>\n",
       "    <tr>\n",
       "      <th>C(promotion):C(marketsize)</th>\n",
       "      <td>4.0</td>\n",
       "      <td>2.116740e+09</td>\n",
       "      <td>5.291849e+08</td>\n",
       "      <td>4.586120</td>\n",
       "      <td>0.001194</td>\n",
       "    </tr>\n",
       "    <tr>\n",
       "      <th>Residual</th>\n",
       "      <td>539.0</td>\n",
       "      <td>6.219432e+10</td>\n",
       "      <td>1.153884e+08</td>\n",
       "      <td>NaN</td>\n",
       "      <td>NaN</td>\n",
       "    </tr>\n",
       "  </tbody>\n",
       "</table>\n",
       "</div>"
      ],
      "text/plain": [
       "                               df        sum_sq       mean_sq           F  \\\n",
       "C(promotion)                  2.0  1.144917e+10  5.724587e+09   49.611480   \n",
       "C(marketsize)                 2.0  7.780304e+10  3.890152e+10  337.135582   \n",
       "C(promotion):C(marketsize)    4.0  2.116740e+09  5.291849e+08    4.586120   \n",
       "Residual                    539.0  6.219432e+10  1.153884e+08         NaN   \n",
       "\n",
       "                              PR(>F)  \n",
       "C(promotion)                0.000000  \n",
       "C(marketsize)               0.000000  \n",
       "C(promotion):C(marketsize)  0.001194  \n",
       "Residual                         NaN  "
      ]
     },
     "execution_count": 315,
     "metadata": {},
     "output_type": "execute_result"
    }
   ],
   "source": [
    "#Welch's ANOVA\n",
    "from statsmodels.stats.anova import anova_lm\n",
    "\n",
    "model = ols('promo_revenue ~ C(promotion) * C(marketsize)', data=df).fit()\n",
    "\n",
    "#robust='hc3' => addressing the non-equal varaince\n",
    "anova_results = anova_lm(model, robust='hc3')\n",
    "anova_results['PR(>F)']=anova_results['PR(>F)'].apply(lambda x:round(x,6))\n",
    "\n",
    "anova_results"
   ]
  },
  {
   "cell_type": "markdown",
   "id": "d36918c9-5e56-4a28-8cbc-e34e8206e790",
   "metadata": {},
   "source": [
    "#### C(promotion)\n",
    "The effect of the promotion on the generated revenue  is statistically significant\n",
    "\n",
    "#### C(marketsize)\n",
    "The effect of the market size on the generated revenue  is statistically significant\n",
    "\n",
    "#### C(promotion):C(marketsize)\n",
    "There is a statistically significant interaction between promotion and market size. In other words, the different level combinations between promotion and market size generate different revenue outputs\n",
    "\n",
    "The largest effect was observed for the interaction between market size and turnover. Here we can see that market size has the biggest impact on sales.\n",
    "\n",
    "Next we do the post hoc test. We do this to determine exactly which treatment conditions are significantly different. In this project we are going to perform a \"Games-Howell test\", this test allows us to deal with unequal variance."
   ]
  },
  {
   "cell_type": "code",
   "execution_count": 291,
   "id": "4e823eff-cf50-4112-8486-d306aec793fb",
   "metadata": {},
   "outputs": [
    {
     "data": {
      "text/html": [
       "<div>\n",
       "<style scoped>\n",
       "    .dataframe tbody tr th:only-of-type {\n",
       "        vertical-align: middle;\n",
       "    }\n",
       "\n",
       "    .dataframe tbody tr th {\n",
       "        vertical-align: top;\n",
       "    }\n",
       "\n",
       "    .dataframe thead th {\n",
       "        text-align: right;\n",
       "    }\n",
       "</style>\n",
       "<table border=\"1\" class=\"dataframe\">\n",
       "  <thead>\n",
       "    <tr style=\"text-align: right;\">\n",
       "      <th></th>\n",
       "      <th>A</th>\n",
       "      <th>B</th>\n",
       "      <th>mean(A)</th>\n",
       "      <th>mean(B)</th>\n",
       "      <th>diff</th>\n",
       "      <th>se</th>\n",
       "      <th>T</th>\n",
       "      <th>df</th>\n",
       "      <th>pval</th>\n",
       "      <th>eta-square</th>\n",
       "    </tr>\n",
       "  </thead>\n",
       "  <tbody>\n",
       "    <tr>\n",
       "      <th>0</th>\n",
       "      <td>1</td>\n",
       "      <td>2</td>\n",
       "      <td>58099.011628</td>\n",
       "      <td>47329.414894</td>\n",
       "      <td>10769.596734</td>\n",
       "      <td>1675.542387</td>\n",
       "      <td>6.427529</td>\n",
       "      <td>346.783619</td>\n",
       "      <td>0.000000</td>\n",
       "      <td>0.103881</td>\n",
       "    </tr>\n",
       "    <tr>\n",
       "      <th>1</th>\n",
       "      <td>1</td>\n",
       "      <td>3</td>\n",
       "      <td>58099.011628</td>\n",
       "      <td>55364.468085</td>\n",
       "      <td>2734.543543</td>\n",
       "      <td>1757.393395</td>\n",
       "      <td>1.556022</td>\n",
       "      <td>355.918164</td>\n",
       "      <td>0.266245</td>\n",
       "      <td>0.006686</td>\n",
       "    </tr>\n",
       "    <tr>\n",
       "      <th>2</th>\n",
       "      <td>2</td>\n",
       "      <td>3</td>\n",
       "      <td>47329.414894</td>\n",
       "      <td>55364.468085</td>\n",
       "      <td>-8035.053191</td>\n",
       "      <td>1646.057522</td>\n",
       "      <td>-4.881393</td>\n",
       "      <td>370.020530</td>\n",
       "      <td>0.000005</td>\n",
       "      <td>0.059596</td>\n",
       "    </tr>\n",
       "  </tbody>\n",
       "</table>\n",
       "</div>"
      ],
      "text/plain": [
       "   A  B       mean(A)       mean(B)          diff           se         T  \\\n",
       "0  1  2  58099.011628  47329.414894  10769.596734  1675.542387  6.427529   \n",
       "1  1  3  58099.011628  55364.468085   2734.543543  1757.393395  1.556022   \n",
       "2  2  3  47329.414894  55364.468085  -8035.053191  1646.057522 -4.881393   \n",
       "\n",
       "           df      pval  eta-square  \n",
       "0  346.783619  0.000000    0.103881  \n",
       "1  355.918164  0.266245    0.006686  \n",
       "2  370.020530  0.000005    0.059596  "
      ]
     },
     "execution_count": 291,
     "metadata": {},
     "output_type": "execute_result"
    }
   ],
   "source": [
    "from pingouin import pairwise_gameshowell\n",
    "posthoc_promo = pairwise_gameshowell(data=df, dv='promo_revenue', between='promotion',effsize='eta-square')\n",
    "posthoc_promo['pval']=posthoc_promo['pval'].apply(lambda x: round(x,6))\n",
    "posthoc_promo"
   ]
  },
  {
   "cell_type": "code",
   "execution_count": 293,
   "id": "12a2d525-af64-463d-9d7c-7a77b05f1ea3",
   "metadata": {},
   "outputs": [
    {
     "data": {
      "text/html": [
       "<div>\n",
       "<style scoped>\n",
       "    .dataframe tbody tr th:only-of-type {\n",
       "        vertical-align: middle;\n",
       "    }\n",
       "\n",
       "    .dataframe tbody tr th {\n",
       "        vertical-align: top;\n",
       "    }\n",
       "\n",
       "    .dataframe thead th {\n",
       "        text-align: right;\n",
       "    }\n",
       "</style>\n",
       "<table border=\"1\" class=\"dataframe\">\n",
       "  <thead>\n",
       "    <tr style=\"text-align: right;\">\n",
       "      <th></th>\n",
       "      <th>A</th>\n",
       "      <th>B</th>\n",
       "      <th>mean(A)</th>\n",
       "      <th>mean(B)</th>\n",
       "      <th>diff</th>\n",
       "      <th>se</th>\n",
       "      <th>T</th>\n",
       "      <th>df</th>\n",
       "      <th>pval</th>\n",
       "      <th>eta-square</th>\n",
       "    </tr>\n",
       "  </thead>\n",
       "  <tbody>\n",
       "    <tr>\n",
       "      <th>0</th>\n",
       "      <td>Large</td>\n",
       "      <td>Medium</td>\n",
       "      <td>70116.72619</td>\n",
       "      <td>43985.343750</td>\n",
       "      <td>26131.382440</td>\n",
       "      <td>1409.550590</td>\n",
       "      <td>18.538804</td>\n",
       "      <td>217.567539</td>\n",
       "      <td>0.0</td>\n",
       "      <td>0.526233</td>\n",
       "    </tr>\n",
       "    <tr>\n",
       "      <th>1</th>\n",
       "      <td>Large</td>\n",
       "      <td>Small</td>\n",
       "      <td>70116.72619</td>\n",
       "      <td>57409.333333</td>\n",
       "      <td>12707.392857</td>\n",
       "      <td>1569.748412</td>\n",
       "      <td>8.095178</td>\n",
       "      <td>224.447350</td>\n",
       "      <td>0.0</td>\n",
       "      <td>0.151355</td>\n",
       "    </tr>\n",
       "    <tr>\n",
       "      <th>2</th>\n",
       "      <td>Medium</td>\n",
       "      <td>Small</td>\n",
       "      <td>43985.34375</td>\n",
       "      <td>57409.333333</td>\n",
       "      <td>-13423.989583</td>\n",
       "      <td>994.647571</td>\n",
       "      <td>-13.496227</td>\n",
       "      <td>105.022509</td>\n",
       "      <td>0.0</td>\n",
       "      <td>0.372143</td>\n",
       "    </tr>\n",
       "  </tbody>\n",
       "</table>\n",
       "</div>"
      ],
      "text/plain": [
       "        A       B      mean(A)       mean(B)          diff           se  \\\n",
       "0   Large  Medium  70116.72619  43985.343750  26131.382440  1409.550590   \n",
       "1   Large   Small  70116.72619  57409.333333  12707.392857  1569.748412   \n",
       "2  Medium   Small  43985.34375  57409.333333 -13423.989583   994.647571   \n",
       "\n",
       "           T          df  pval  eta-square  \n",
       "0  18.538804  217.567539   0.0    0.526233  \n",
       "1   8.095178  224.447350   0.0    0.151355  \n",
       "2 -13.496227  105.022509   0.0    0.372143  "
      ]
     },
     "execution_count": 293,
     "metadata": {},
     "output_type": "execute_result"
    }
   ],
   "source": [
    "posthoc_ms = pairwise_gameshowell(data=df, dv='promo_revenue', between='marketsize',effsize='eta-square')\n",
    "posthoc_ms['pval']=posthoc_ms['pval'].apply(lambda x: round(x,6))\n",
    "posthoc_ms"
   ]
  },
  {
   "cell_type": "code",
   "execution_count": 371,
   "id": "6c08d55e-b3f5-48d0-ab37-adf9d1b9ef16",
   "metadata": {},
   "outputs": [],
   "source": [
    "from statsmodels.stats.multitest import multipletests\n",
    "\n",
    "all_pvalues=pd.concat([posthoc_promo['pval'], posthoc_ms['pval']])\n",
    "\n",
    "# Perform Bonferroni correction\n",
    "adjusted_p_values = multipletests(all_pvalues, method='bonferroni')[1]\n",
    "\n",
    "posthoc_promo['pval_adj'] = adjusted_p_values[:len(posthoc_promo['pval'])]\n",
    "posthoc_ms['pval_adj'] = adjusted_p_values[len(posthoc_promo['pval']):]"
   ]
  },
  {
   "cell_type": "code",
   "execution_count": 373,
   "id": "2b8f422e-8315-403e-8949-43f174b5fa1f",
   "metadata": {},
   "outputs": [
    {
     "data": {
      "text/html": [
       "<div>\n",
       "<style scoped>\n",
       "    .dataframe tbody tr th:only-of-type {\n",
       "        vertical-align: middle;\n",
       "    }\n",
       "\n",
       "    .dataframe tbody tr th {\n",
       "        vertical-align: top;\n",
       "    }\n",
       "\n",
       "    .dataframe thead th {\n",
       "        text-align: right;\n",
       "    }\n",
       "</style>\n",
       "<table border=\"1\" class=\"dataframe\">\n",
       "  <thead>\n",
       "    <tr style=\"text-align: right;\">\n",
       "      <th></th>\n",
       "      <th>A</th>\n",
       "      <th>B</th>\n",
       "      <th>mean(A)</th>\n",
       "      <th>mean(B)</th>\n",
       "      <th>diff</th>\n",
       "      <th>se</th>\n",
       "      <th>T</th>\n",
       "      <th>df</th>\n",
       "      <th>pval</th>\n",
       "      <th>eta-square</th>\n",
       "      <th>pval_adj</th>\n",
       "    </tr>\n",
       "  </thead>\n",
       "  <tbody>\n",
       "    <tr>\n",
       "      <th>0</th>\n",
       "      <td>1</td>\n",
       "      <td>2</td>\n",
       "      <td>58099.011628</td>\n",
       "      <td>47329.414894</td>\n",
       "      <td>10769.596734</td>\n",
       "      <td>1675.542387</td>\n",
       "      <td>6.427529</td>\n",
       "      <td>346.783619</td>\n",
       "      <td>0.000000</td>\n",
       "      <td>0.103881</td>\n",
       "      <td>0.00000</td>\n",
       "    </tr>\n",
       "    <tr>\n",
       "      <th>1</th>\n",
       "      <td>1</td>\n",
       "      <td>3</td>\n",
       "      <td>58099.011628</td>\n",
       "      <td>55364.468085</td>\n",
       "      <td>2734.543543</td>\n",
       "      <td>1757.393395</td>\n",
       "      <td>1.556022</td>\n",
       "      <td>355.918164</td>\n",
       "      <td>0.266245</td>\n",
       "      <td>0.006686</td>\n",
       "      <td>1.00000</td>\n",
       "    </tr>\n",
       "    <tr>\n",
       "      <th>2</th>\n",
       "      <td>2</td>\n",
       "      <td>3</td>\n",
       "      <td>47329.414894</td>\n",
       "      <td>55364.468085</td>\n",
       "      <td>-8035.053191</td>\n",
       "      <td>1646.057522</td>\n",
       "      <td>-4.881393</td>\n",
       "      <td>370.020530</td>\n",
       "      <td>0.000005</td>\n",
       "      <td>0.059596</td>\n",
       "      <td>0.00003</td>\n",
       "    </tr>\n",
       "  </tbody>\n",
       "</table>\n",
       "</div>"
      ],
      "text/plain": [
       "   A  B       mean(A)       mean(B)          diff           se         T  \\\n",
       "0  1  2  58099.011628  47329.414894  10769.596734  1675.542387  6.427529   \n",
       "1  1  3  58099.011628  55364.468085   2734.543543  1757.393395  1.556022   \n",
       "2  2  3  47329.414894  55364.468085  -8035.053191  1646.057522 -4.881393   \n",
       "\n",
       "           df      pval  eta-square  pval_adj  \n",
       "0  346.783619  0.000000    0.103881   0.00000  \n",
       "1  355.918164  0.266245    0.006686   1.00000  \n",
       "2  370.020530  0.000005    0.059596   0.00003  "
      ]
     },
     "execution_count": 373,
     "metadata": {},
     "output_type": "execute_result"
    }
   ],
   "source": [
    "posthoc_promo"
   ]
  },
  {
   "cell_type": "code",
   "execution_count": 375,
   "id": "ab780d7a-efee-4fbf-93f0-2b0c2a81697a",
   "metadata": {},
   "outputs": [
    {
     "data": {
      "text/html": [
       "<div>\n",
       "<style scoped>\n",
       "    .dataframe tbody tr th:only-of-type {\n",
       "        vertical-align: middle;\n",
       "    }\n",
       "\n",
       "    .dataframe tbody tr th {\n",
       "        vertical-align: top;\n",
       "    }\n",
       "\n",
       "    .dataframe thead th {\n",
       "        text-align: right;\n",
       "    }\n",
       "</style>\n",
       "<table border=\"1\" class=\"dataframe\">\n",
       "  <thead>\n",
       "    <tr style=\"text-align: right;\">\n",
       "      <th></th>\n",
       "      <th>A</th>\n",
       "      <th>B</th>\n",
       "      <th>mean(A)</th>\n",
       "      <th>mean(B)</th>\n",
       "      <th>diff</th>\n",
       "      <th>se</th>\n",
       "      <th>T</th>\n",
       "      <th>df</th>\n",
       "      <th>pval</th>\n",
       "      <th>eta-square</th>\n",
       "      <th>pval_adj</th>\n",
       "    </tr>\n",
       "  </thead>\n",
       "  <tbody>\n",
       "    <tr>\n",
       "      <th>0</th>\n",
       "      <td>Large</td>\n",
       "      <td>Medium</td>\n",
       "      <td>70116.72619</td>\n",
       "      <td>43985.343750</td>\n",
       "      <td>26131.382440</td>\n",
       "      <td>1409.550590</td>\n",
       "      <td>18.538804</td>\n",
       "      <td>217.567539</td>\n",
       "      <td>0.0</td>\n",
       "      <td>0.526233</td>\n",
       "      <td>0.0</td>\n",
       "    </tr>\n",
       "    <tr>\n",
       "      <th>1</th>\n",
       "      <td>Large</td>\n",
       "      <td>Small</td>\n",
       "      <td>70116.72619</td>\n",
       "      <td>57409.333333</td>\n",
       "      <td>12707.392857</td>\n",
       "      <td>1569.748412</td>\n",
       "      <td>8.095178</td>\n",
       "      <td>224.447350</td>\n",
       "      <td>0.0</td>\n",
       "      <td>0.151355</td>\n",
       "      <td>0.0</td>\n",
       "    </tr>\n",
       "    <tr>\n",
       "      <th>2</th>\n",
       "      <td>Medium</td>\n",
       "      <td>Small</td>\n",
       "      <td>43985.34375</td>\n",
       "      <td>57409.333333</td>\n",
       "      <td>-13423.989583</td>\n",
       "      <td>994.647571</td>\n",
       "      <td>-13.496227</td>\n",
       "      <td>105.022509</td>\n",
       "      <td>0.0</td>\n",
       "      <td>0.372143</td>\n",
       "      <td>0.0</td>\n",
       "    </tr>\n",
       "  </tbody>\n",
       "</table>\n",
       "</div>"
      ],
      "text/plain": [
       "        A       B      mean(A)       mean(B)          diff           se  \\\n",
       "0   Large  Medium  70116.72619  43985.343750  26131.382440  1409.550590   \n",
       "1   Large   Small  70116.72619  57409.333333  12707.392857  1569.748412   \n",
       "2  Medium   Small  43985.34375  57409.333333 -13423.989583   994.647571   \n",
       "\n",
       "           T          df  pval  eta-square  pval_adj  \n",
       "0  18.538804  217.567539   0.0    0.526233       0.0  \n",
       "1   8.095178  224.447350   0.0    0.151355       0.0  \n",
       "2 -13.496227  105.022509   0.0    0.372143       0.0  "
      ]
     },
     "execution_count": 375,
     "metadata": {},
     "output_type": "execute_result"
    }
   ],
   "source": [
    "posthoc_ms"
   ]
  },
  {
   "cell_type": "code",
   "execution_count": 377,
   "id": "edc2a254-7802-4791-901a-fd72ee719d51",
   "metadata": {},
   "outputs": [
    {
     "data": {
      "text/plain": [
       "marketsize\n",
       "Large     75020.0\n",
       "Medium    44590.0\n",
       "Small     57555.0\n",
       "Name: promo_revenue, dtype: float64"
      ]
     },
     "execution_count": 377,
     "metadata": {},
     "output_type": "execute_result"
    }
   ],
   "source": [
    "df.groupby('marketsize')['promo_revenue'].median()"
   ]
  },
  {
   "cell_type": "markdown",
   "id": "4b985a79-8a1a-4de6-b7cd-e868e76f503d",
   "metadata": {},
   "source": [
    "The two-way ANOVA showed the following:\n",
    "- The biggest effect comes from market size, which is logical, the bigger the market, the bigger the potential to sell more, which leads to more revenue.\n",
    "\n",
    "I have to address a major weakness in this test, we were not able to perform a post hoc test for a two-way ANOVA with unequal variance. In this situation we would use the Games-Howell post hoc test, but neither the scipy nor the pingouin libraries provide a solution for a two-way ANOVA. Therefore, we had to perform the post hoc for each factor separately, which did not provide any more insight."
   ]
  },
  {
   "cell_type": "markdown",
   "id": "ce059793",
   "metadata": {},
   "source": [
    "# Conclusion"
   ]
  },
  {
   "cell_type": "markdown",
   "id": "37f33f81",
   "metadata": {},
   "source": [
    "The result of the A/B test has shown that the fast food company can choose between promotion 1 and promotion 3. We could not find a statistically significant difference between promotion 1 and promotion 3, but we could find a statistically significant difference between promotion 1 & promotion 2 and promotion 2 & promotion 3. This is supported by the medians of each promotion. Here we can see that promotion 1 and 3 have the largest medians.\n",
    "\n",
    "When we ran the analysis for each market size and promotion, we could see a familiar picture, but we did not run a proper post hoc for a two-way ANOVA, so we could not get a proper picture of how the promotions behave in the different market sizes.\n",
    "\n",
    "###### Recommendations:\n",
    "The runtime of the test could be extended to get more accurate/reliable data."
   ]
  }
 ],
 "metadata": {
  "kernelspec": {
   "display_name": "Python 3 (ipykernel)",
   "language": "python",
   "name": "python3"
  },
  "language_info": {
   "codemirror_mode": {
    "name": "ipython",
    "version": 3
   },
   "file_extension": ".py",
   "mimetype": "text/x-python",
   "name": "python",
   "nbconvert_exporter": "python",
   "pygments_lexer": "ipython3",
   "version": "3.11.7"
  },
  "toc": {
   "base_numbering": 1,
   "nav_menu": {},
   "number_sections": true,
   "sideBar": true,
   "skip_h1_title": false,
   "title_cell": "Table of Contents",
   "title_sidebar": "Contents",
   "toc_cell": false,
   "toc_position": {},
   "toc_section_display": true,
   "toc_window_display": false
  }
 },
 "nbformat": 4,
 "nbformat_minor": 5
}
