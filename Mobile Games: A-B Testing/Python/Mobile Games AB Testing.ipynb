{
 "cells": [
  {
   "cell_type": "code",
   "execution_count": 1,
   "id": "4dc890d9",
   "metadata": {},
   "outputs": [],
   "source": [
    "import pandas as pd\n",
    "import numpy as np\n",
    "import matplotlib.pyplot as plt\n",
    "import seaborn as sns\n",
    "import warnings\n",
    "warnings.filterwarnings('ignore')"
   ]
  },
  {
   "cell_type": "code",
   "execution_count": 2,
   "id": "fbeee490",
   "metadata": {},
   "outputs": [
    {
     "data": {
      "text/html": [
       "<div>\n",
       "<style scoped>\n",
       "    .dataframe tbody tr th:only-of-type {\n",
       "        vertical-align: middle;\n",
       "    }\n",
       "\n",
       "    .dataframe tbody tr th {\n",
       "        vertical-align: top;\n",
       "    }\n",
       "\n",
       "    .dataframe thead th {\n",
       "        text-align: right;\n",
       "    }\n",
       "</style>\n",
       "<table border=\"1\" class=\"dataframe\">\n",
       "  <thead>\n",
       "    <tr style=\"text-align: right;\">\n",
       "      <th></th>\n",
       "      <th>userid</th>\n",
       "      <th>version</th>\n",
       "      <th>sum_gamerounds</th>\n",
       "      <th>retention_1</th>\n",
       "      <th>retention_7</th>\n",
       "    </tr>\n",
       "  </thead>\n",
       "  <tbody>\n",
       "    <tr>\n",
       "      <th>0</th>\n",
       "      <td>116</td>\n",
       "      <td>gate_30</td>\n",
       "      <td>3</td>\n",
       "      <td>False</td>\n",
       "      <td>False</td>\n",
       "    </tr>\n",
       "    <tr>\n",
       "      <th>1</th>\n",
       "      <td>337</td>\n",
       "      <td>gate_30</td>\n",
       "      <td>38</td>\n",
       "      <td>True</td>\n",
       "      <td>False</td>\n",
       "    </tr>\n",
       "    <tr>\n",
       "      <th>2</th>\n",
       "      <td>377</td>\n",
       "      <td>gate_40</td>\n",
       "      <td>165</td>\n",
       "      <td>True</td>\n",
       "      <td>False</td>\n",
       "    </tr>\n",
       "    <tr>\n",
       "      <th>3</th>\n",
       "      <td>483</td>\n",
       "      <td>gate_40</td>\n",
       "      <td>1</td>\n",
       "      <td>False</td>\n",
       "      <td>False</td>\n",
       "    </tr>\n",
       "    <tr>\n",
       "      <th>4</th>\n",
       "      <td>488</td>\n",
       "      <td>gate_40</td>\n",
       "      <td>179</td>\n",
       "      <td>True</td>\n",
       "      <td>True</td>\n",
       "    </tr>\n",
       "  </tbody>\n",
       "</table>\n",
       "</div>"
      ],
      "text/plain": [
       "   userid  version  sum_gamerounds  retention_1  retention_7\n",
       "0     116  gate_30               3        False        False\n",
       "1     337  gate_30              38         True        False\n",
       "2     377  gate_40             165         True        False\n",
       "3     483  gate_40               1        False        False\n",
       "4     488  gate_40             179         True         True"
      ]
     },
     "execution_count": 2,
     "metadata": {},
     "output_type": "execute_result"
    }
   ],
   "source": [
    "file='/Users/alexandergandji/Desktop/Course_Folder/Case Study/Hypothesis Test/Mobile Games/cookie_cats.csv'\n",
    "df=pd.read_csv(file)\n",
    "df.head()"
   ]
  },
  {
   "cell_type": "markdown",
   "id": "c8e4522f",
   "metadata": {},
   "source": [
    "# Intro"
   ]
  },
  {
   "cell_type": "markdown",
   "id": "6d8b0ba1",
   "metadata": {},
   "source": [
    "In this project, a gaming company wants to gain a better understanding of its users behaviour's.\n",
    "\n",
    "We will analyse data from a mobile game called \"Cookie Cat\". In this game, users previously encountered a gate, forcing them to wait some time before they can progress or make an in-app purchase to continue immediately. Currently, this gate will appear when the user reaches level/gate 30. The company wants to know if the gaming behaviour of its customers changes when the gate is moved from level 30 to level 40.\n",
    "\n",
    "This will be done with an A/B test/hypothesis test."
   ]
  },
  {
   "cell_type": "markdown",
   "id": "3b369c44",
   "metadata": {},
   "source": [
    "# Data Cleaning"
   ]
  },
  {
   "cell_type": "code",
   "execution_count": 3,
   "id": "7d68cd7c",
   "metadata": {},
   "outputs": [
    {
     "data": {
      "text/plain": [
       "(90189, 5)"
      ]
     },
     "execution_count": 3,
     "metadata": {},
     "output_type": "execute_result"
    }
   ],
   "source": [
    "df.shape"
   ]
  },
  {
   "cell_type": "markdown",
   "id": "2326ab4b",
   "metadata": {},
   "source": [
    "We have a data set with 5 columns and 90189.\n",
    "\n",
    "The next step is to check for any missing values."
   ]
  },
  {
   "cell_type": "code",
   "execution_count": 4,
   "id": "e49c9b9f",
   "metadata": {},
   "outputs": [
    {
     "data": {
      "text/plain": [
       "userid            0\n",
       "version           0\n",
       "sum_gamerounds    0\n",
       "retention_1       0\n",
       "retention_7       0\n",
       "dtype: int64"
      ]
     },
     "execution_count": 4,
     "metadata": {},
     "output_type": "execute_result"
    }
   ],
   "source": [
    "df.isnull().sum()"
   ]
  },
  {
   "cell_type": "code",
   "execution_count": 5,
   "id": "4f76884a",
   "metadata": {},
   "outputs": [
    {
     "name": "stdout",
     "output_type": "stream",
     "text": [
      "<class 'pandas.core.frame.DataFrame'>\n",
      "RangeIndex: 90189 entries, 0 to 90188\n",
      "Data columns (total 5 columns):\n",
      " #   Column          Non-Null Count  Dtype \n",
      "---  ------          --------------  ----- \n",
      " 0   userid          90189 non-null  int64 \n",
      " 1   version         90189 non-null  object\n",
      " 2   sum_gamerounds  90189 non-null  int64 \n",
      " 3   retention_1     90189 non-null  bool  \n",
      " 4   retention_7     90189 non-null  bool  \n",
      "dtypes: bool(2), int64(2), object(1)\n",
      "memory usage: 2.2+ MB\n"
     ]
    }
   ],
   "source": [
    "df.info()"
   ]
  },
  {
   "cell_type": "markdown",
   "id": "c4eb22af",
   "metadata": {},
   "source": [
    "We do not have any null-values which is really good. Next, we get familar with the data set."
   ]
  },
  {
   "cell_type": "code",
   "execution_count": 6,
   "id": "d2db3b89",
   "metadata": {},
   "outputs": [
    {
     "data": {
      "text/plain": [
       "userid            90189\n",
       "version               2\n",
       "sum_gamerounds      942\n",
       "retention_1           2\n",
       "retention_7           2\n",
       "dtype: int64"
      ]
     },
     "execution_count": 6,
     "metadata": {},
     "output_type": "execute_result"
    }
   ],
   "source": [
    "df.nunique()"
   ]
  },
  {
   "cell_type": "markdown",
   "id": "79ce99d2",
   "metadata": {},
   "source": [
    "Here we can see that we do not have any duplicates in the \"userid\" column, we have a data set with 90189 rows, and we do have 90189 unique user IDs."
   ]
  },
  {
   "cell_type": "markdown",
   "id": "8daeb597",
   "metadata": {},
   "source": [
    "As already stated, we will be doing an A/B Test, specifically an Independent t-test, to determine if the change from putting the gate from level 30 to level 40 will lead to a statistically significant difference.\n",
    "Why an Independent t-test? We analyse the same variable in independent groups (control and test group). In our case, the sum of played rounds of each user.\n",
    "We need to determine a test and control group to do the test.\n",
    "\n",
    "Control Group: Here, we will be using gate_30 because this has been the standard until now\n",
    "\n",
    "Test Group: gate_40. This will be the test group. Does the switch from level 30 to level 40 lead to a statistically significant difference?\n",
    "\n",
    "To make this easier to understand, we will rename the values in the column \"version\"."
   ]
  },
  {
   "cell_type": "code",
   "execution_count": 7,
   "id": "cb3956fd",
   "metadata": {},
   "outputs": [
    {
     "data": {
      "text/html": [
       "<div>\n",
       "<style scoped>\n",
       "    .dataframe tbody tr th:only-of-type {\n",
       "        vertical-align: middle;\n",
       "    }\n",
       "\n",
       "    .dataframe tbody tr th {\n",
       "        vertical-align: top;\n",
       "    }\n",
       "\n",
       "    .dataframe thead th {\n",
       "        text-align: right;\n",
       "    }\n",
       "</style>\n",
       "<table border=\"1\" class=\"dataframe\">\n",
       "  <thead>\n",
       "    <tr style=\"text-align: right;\">\n",
       "      <th></th>\n",
       "      <th>userid</th>\n",
       "      <th>version</th>\n",
       "      <th>sum_gamerounds</th>\n",
       "      <th>retention_1</th>\n",
       "      <th>retention_7</th>\n",
       "    </tr>\n",
       "  </thead>\n",
       "  <tbody>\n",
       "    <tr>\n",
       "      <th>0</th>\n",
       "      <td>116</td>\n",
       "      <td>control</td>\n",
       "      <td>3</td>\n",
       "      <td>False</td>\n",
       "      <td>False</td>\n",
       "    </tr>\n",
       "    <tr>\n",
       "      <th>1</th>\n",
       "      <td>337</td>\n",
       "      <td>control</td>\n",
       "      <td>38</td>\n",
       "      <td>True</td>\n",
       "      <td>False</td>\n",
       "    </tr>\n",
       "    <tr>\n",
       "      <th>2</th>\n",
       "      <td>377</td>\n",
       "      <td>test</td>\n",
       "      <td>165</td>\n",
       "      <td>True</td>\n",
       "      <td>False</td>\n",
       "    </tr>\n",
       "    <tr>\n",
       "      <th>3</th>\n",
       "      <td>483</td>\n",
       "      <td>test</td>\n",
       "      <td>1</td>\n",
       "      <td>False</td>\n",
       "      <td>False</td>\n",
       "    </tr>\n",
       "    <tr>\n",
       "      <th>4</th>\n",
       "      <td>488</td>\n",
       "      <td>test</td>\n",
       "      <td>179</td>\n",
       "      <td>True</td>\n",
       "      <td>True</td>\n",
       "    </tr>\n",
       "  </tbody>\n",
       "</table>\n",
       "</div>"
      ],
      "text/plain": [
       "   userid  version  sum_gamerounds  retention_1  retention_7\n",
       "0     116  control               3        False        False\n",
       "1     337  control              38         True        False\n",
       "2     377     test             165         True        False\n",
       "3     483     test               1        False        False\n",
       "4     488     test             179         True         True"
      ]
     },
     "execution_count": 7,
     "metadata": {},
     "output_type": "execute_result"
    }
   ],
   "source": [
    "df['version']=df.version.replace({'gate_30':'control', 'gate_40':'test'})\n",
    "df.head()"
   ]
  },
  {
   "cell_type": "markdown",
   "id": "85937917",
   "metadata": {},
   "source": [
    "# Exploratory Analysis"
   ]
  },
  {
   "cell_type": "code",
   "execution_count": 8,
   "id": "38201df3",
   "metadata": {},
   "outputs": [
    {
     "name": "stdout",
     "output_type": "stream",
     "text": [
      "number of rows 90189\n",
      "1      6.140438\n",
      "2      5.107053\n",
      "0      4.428478\n",
      "3      4.388562\n",
      "4      4.023772\n",
      "         ...   \n",
      "821    0.001109\n",
      "659    0.001109\n",
      "634    0.001109\n",
      "741    0.001109\n",
      "708    0.001109\n",
      "Name: sum_gamerounds, Length: 942, dtype: float64\n"
     ]
    }
   ],
   "source": [
    "print('number of rows', len(df.sum_gamerounds))\n",
    "print((df.sum_gamerounds.value_counts().sort_values(ascending=False)/len(df.sum_gamerounds))*100)"
   ]
  },
  {
   "cell_type": "markdown",
   "id": "3853c3cf",
   "metadata": {},
   "source": [
    "Next, we want to see if we have relativly equally sized samples."
   ]
  },
  {
   "cell_type": "code",
   "execution_count": 9,
   "id": "87cf51b4",
   "metadata": {},
   "outputs": [
    {
     "name": "stdout",
     "output_type": "stream",
     "text": [
      "test       45489\n",
      "control    44700\n",
      "Name: version, dtype: int64\n"
     ]
    },
    {
     "data": {
      "text/plain": [
       "Text(0, 0.5, '')"
      ]
     },
     "execution_count": 9,
     "metadata": {},
     "output_type": "execute_result"
    },
    {
     "data": {
      "image/png": "[encoded data removed]",
      "text/plain": [
       "<Figure size 576x576 with 1 Axes>"
      ]
     },
     "metadata": {},
     "output_type": "display_data"
    }
   ],
   "source": [
    "import matplotlib.pyplot as plt\n",
    "print(df.version.value_counts())\n",
    "df.version.value_counts().plot(kind='pie', figsize=(8,8), autopct='%.02f%%', colors=['red', 'green'])\n",
    "plt.ylabel('')"
   ]
  },
  {
   "cell_type": "markdown",
   "id": "955d3d1d",
   "metadata": {},
   "source": [
    "As we can see, both samples are very much the same. Being very strict, we must mention that the control group is by a fraction smaller than the control group.\n",
    "\n",
    "Next, we want to see how many rounds each group plays (control and test)."
   ]
  },
  {
   "cell_type": "code",
   "execution_count": 10,
   "id": "2255117b",
   "metadata": {},
   "outputs": [
    {
     "name": "stdout",
     "output_type": "stream",
     "text": [
      "version\n",
      "control    2344795\n",
      "test       2333530\n",
      "Name: sum_gamerounds, dtype: int64\n"
     ]
    },
    {
     "data": {
      "text/plain": [
       "Text(0.5, 1.0, 'Total of rounds played by the different groups')"
      ]
     },
     "execution_count": 10,
     "metadata": {},
     "output_type": "execute_result"
    },
    {
     "data": {
      "image/png": "[encoded data removed]",
      "text/plain": [
       "<Figure size 432x288 with 1 Axes>"
      ]
     },
     "metadata": {
      "needs_background": "light"
     },
     "output_type": "display_data"
    }
   ],
   "source": [
    "print(df.groupby('version')['sum_gamerounds'].sum())\n",
    "df.groupby('version')['sum_gamerounds'].sum().plot(kind='bar', color=['green', 'red'])\n",
    "plt.xticks(rotation=0)\n",
    "plt.title('Total of rounds played by the different groups', size=16, fontweight='bold')"
   ]
  },
  {
   "cell_type": "markdown",
   "id": "b28798f4",
   "metadata": {},
   "source": [
    "As we can see, we have almost the same amount of rounds played between the different groups.\n",
    "\n",
    "Next, we want to understand the column \"retention_1\"."
   ]
  },
  {
   "cell_type": "code",
   "execution_count": 11,
   "id": "a3144000",
   "metadata": {},
   "outputs": [
    {
     "data": {
      "text/html": [
       "<div>\n",
       "<style scoped>\n",
       "    .dataframe tbody tr th:only-of-type {\n",
       "        vertical-align: middle;\n",
       "    }\n",
       "\n",
       "    .dataframe tbody tr th {\n",
       "        vertical-align: top;\n",
       "    }\n",
       "\n",
       "    .dataframe thead th {\n",
       "        text-align: right;\n",
       "    }\n",
       "</style>\n",
       "<table border=\"1\" class=\"dataframe\">\n",
       "  <thead>\n",
       "    <tr style=\"text-align: right;\">\n",
       "      <th></th>\n",
       "      <th>retention_1</th>\n",
       "      <th>version</th>\n",
       "      <th>sum_gamerounds</th>\n",
       "    </tr>\n",
       "  </thead>\n",
       "  <tbody>\n",
       "    <tr>\n",
       "      <th>0</th>\n",
       "      <td>False</td>\n",
       "      <td>control</td>\n",
       "      <td>24666</td>\n",
       "    </tr>\n",
       "    <tr>\n",
       "      <th>1</th>\n",
       "      <td>False</td>\n",
       "      <td>test</td>\n",
       "      <td>25370</td>\n",
       "    </tr>\n",
       "    <tr>\n",
       "      <th>2</th>\n",
       "      <td>True</td>\n",
       "      <td>control</td>\n",
       "      <td>20034</td>\n",
       "    </tr>\n",
       "    <tr>\n",
       "      <th>3</th>\n",
       "      <td>True</td>\n",
       "      <td>test</td>\n",
       "      <td>20119</td>\n",
       "    </tr>\n",
       "  </tbody>\n",
       "</table>\n",
       "</div>"
      ],
      "text/plain": [
       "   retention_1  version  sum_gamerounds\n",
       "0        False  control           24666\n",
       "1        False     test           25370\n",
       "2         True  control           20034\n",
       "3         True     test           20119"
      ]
     },
     "execution_count": 11,
     "metadata": {},
     "output_type": "execute_result"
    }
   ],
   "source": [
    "df.groupby(['retention_1', 'version'])['sum_gamerounds'].count().reset_index()"
   ]
  },
  {
   "cell_type": "markdown",
   "id": "f09d8c8b",
   "metadata": {},
   "source": [
    "The \"retention_1\" column shows if a user has returned and played a round one day after the game's installation.\n",
    "\n",
    "- True=> they came back one day after the installation and played a round\n",
    "\n",
    "- False=> they did not come back one day after the installation and played a round\n",
    "\n",
    "Again, we need to see a difference between the different groups."
   ]
  },
  {
   "cell_type": "code",
   "execution_count": 12,
   "id": "b8252325",
   "metadata": {},
   "outputs": [
    {
     "data": {
      "text/plain": [
       "Text(0.5, 0, 'test group')"
      ]
     },
     "execution_count": 12,
     "metadata": {},
     "output_type": "execute_result"
    },
    {
     "data": {
      "image/png": "[encoded data removed]",
      "text/plain": [
       "<Figure size 576x576 with 2 Axes>"
      ]
     },
     "metadata": {
      "needs_background": "light"
     },
     "output_type": "display_data"
    }
   ],
   "source": [
    "plt.figure(figsize=(8,8))\n",
    "plt.subplot(2,1,1)\n",
    "axt=df[(df.version=='control')]['retention_1']\n",
    "sns.countplot(axt)\n",
    "plt.title('How many users did return the day after they have installed the game', size=12, fontweight='bold')\n",
    "plt.xlabel('control group')\n",
    "\n",
    "\n",
    "\n",
    "plt.subplot(2,1,2)\n",
    "axc=df[(df.version=='test')]['retention_1']\n",
    "sns.countplot(axc)\n",
    "plt.title('How many users did return the day after they have installed the game', size=12, fontweight='bold')\n",
    "plt.xlabel('test group')"
   ]
  },
  {
   "cell_type": "markdown",
   "id": "b82dccc2",
   "metadata": {},
   "source": [
    "From a descriptive point of view, they are pretty much the same, but what does it look like for \"retention_7\"?\n",
    "\n",
    "Here we check if users still played the game (finished game rounds) seven days after the installation:"
   ]
  },
  {
   "cell_type": "code",
   "execution_count": 13,
   "id": "9b0dd776",
   "metadata": {},
   "outputs": [
    {
     "data": {
      "text/plain": [
       "Text(0.5, 0, 'test group')"
      ]
     },
     "execution_count": 13,
     "metadata": {},
     "output_type": "execute_result"
    },
    {
     "data": {
      "image/png": "[encoded data removed]",
      "text/plain": [
       "<Figure size 576x576 with 2 Axes>"
      ]
     },
     "metadata": {
      "needs_background": "light"
     },
     "output_type": "display_data"
    }
   ],
   "source": [
    "plt.figure(figsize=(8,8))\n",
    "plt.subplot(2,1,1)\n",
    "axt=df[(df.version=='control')]['retention_7']\n",
    "sns.countplot(axt)\n",
    "plt.title('How many users did return 7 days after they have installed the game', size=12, fontweight='bold')\n",
    "plt.xlabel('control group')\n",
    "\n",
    "plt.subplot(2,1,2)\n",
    "axc=df[(df.version=='test')]['retention_7']\n",
    "sns.countplot(axc)\n",
    "plt.title('How many users did return 7 days after they have installed the game', size=12, fontweight='bold')\n",
    "plt.xlabel('test group')"
   ]
  },
  {
   "cell_type": "code",
   "execution_count": 14,
   "id": "b9018ee7",
   "metadata": {},
   "outputs": [
    {
     "data": {
      "text/html": [
       "<div>\n",
       "<style scoped>\n",
       "    .dataframe tbody tr th:only-of-type {\n",
       "        vertical-align: middle;\n",
       "    }\n",
       "\n",
       "    .dataframe tbody tr th {\n",
       "        vertical-align: top;\n",
       "    }\n",
       "\n",
       "    .dataframe thead th {\n",
       "        text-align: right;\n",
       "    }\n",
       "</style>\n",
       "<table border=\"1\" class=\"dataframe\">\n",
       "  <thead>\n",
       "    <tr style=\"text-align: right;\">\n",
       "      <th></th>\n",
       "      <th>retention_7</th>\n",
       "      <th>version</th>\n",
       "      <th>sum_gamerounds</th>\n",
       "    </tr>\n",
       "  </thead>\n",
       "  <tbody>\n",
       "    <tr>\n",
       "      <th>0</th>\n",
       "      <td>False</td>\n",
       "      <td>control</td>\n",
       "      <td>36198</td>\n",
       "    </tr>\n",
       "    <tr>\n",
       "      <th>1</th>\n",
       "      <td>False</td>\n",
       "      <td>test</td>\n",
       "      <td>37210</td>\n",
       "    </tr>\n",
       "    <tr>\n",
       "      <th>2</th>\n",
       "      <td>True</td>\n",
       "      <td>control</td>\n",
       "      <td>8502</td>\n",
       "    </tr>\n",
       "    <tr>\n",
       "      <th>3</th>\n",
       "      <td>True</td>\n",
       "      <td>test</td>\n",
       "      <td>8279</td>\n",
       "    </tr>\n",
       "  </tbody>\n",
       "</table>\n",
       "</div>"
      ],
      "text/plain": [
       "   retention_7  version  sum_gamerounds\n",
       "0        False  control           36198\n",
       "1        False     test           37210\n",
       "2         True  control            8502\n",
       "3         True     test            8279"
      ]
     },
     "execution_count": 14,
     "metadata": {},
     "output_type": "execute_result"
    }
   ],
   "source": [
    "df.groupby(['retention_7', 'version'])['sum_gamerounds'].count().reset_index()"
   ]
  },
  {
   "cell_type": "markdown",
   "id": "177ae0de",
   "metadata": {},
   "source": [
    "Again, we see a relatively familar picture, when we compare both groups."
   ]
  },
  {
   "cell_type": "markdown",
   "id": "dbf4a73d",
   "metadata": {},
   "source": [
    "# A/B Testing\n",
    "## A/B Testing on the overall level"
   ]
  },
  {
   "cell_type": "markdown",
   "id": "65f7ba76",
   "metadata": {},
   "source": [
    "Before we can do the actaul A/B test, which is an indepdent t-test, we have to check following assumptions\n",
    "\n",
    "- Equal variance\n",
    "\n",
    "- normal distribution"
   ]
  },
  {
   "cell_type": "markdown",
   "id": "3453db62",
   "metadata": {},
   "source": [
    "### Equal variance"
   ]
  },
  {
   "cell_type": "code",
   "execution_count": 15,
   "id": "60114a85",
   "metadata": {},
   "outputs": [],
   "source": [
    "control=df[df['version']=='control']['sum_gamerounds']\n",
    "test=df[df['version']=='test']['sum_gamerounds']"
   ]
  },
  {
   "cell_type": "code",
   "execution_count": 16,
   "id": "f17499f1",
   "metadata": {},
   "outputs": [
    {
     "data": {
      "text/plain": [
       "<AxesSubplot:xlabel='version', ylabel='sum_gamerounds'>"
      ]
     },
     "execution_count": 16,
     "metadata": {},
     "output_type": "execute_result"
    },
    {
     "data": {
      "image/png": "[encoded data removed]",
      "text/plain": [
       "<Figure size 432x288 with 1 Axes>"
      ]
     },
     "metadata": {
      "needs_background": "light"
     },
     "output_type": "display_data"
    }
   ],
   "source": [
    "ax=df[['version', 'sum_gamerounds']]\n",
    "sns.boxplot(data=ax, x='version', y='sum_gamerounds')"
   ]
  },
  {
   "cell_type": "markdown",
   "id": "716876a6",
   "metadata": {},
   "source": [
    "As we can see, we have a massive outlier in the control group. To get a representative outcome, we need to ged rid of the outlier."
   ]
  },
  {
   "cell_type": "code",
   "execution_count": 17,
   "id": "68b98a29",
   "metadata": {},
   "outputs": [
    {
     "data": {
      "text/plain": [
       "<AxesSubplot:xlabel='version', ylabel='sum_gamerounds'>"
      ]
     },
     "execution_count": 17,
     "metadata": {},
     "output_type": "execute_result"
    },
    {
     "data": {
      "image/png": "[encoded data removed]",
      "text/plain": [
       "<Figure size 432x288 with 1 Axes>"
      ]
     },
     "metadata": {
      "needs_background": "light"
     },
     "output_type": "display_data"
    }
   ],
   "source": [
    "df=df[df['sum_gamerounds']<49854]\n",
    "control=df[df['version']=='control']['sum_gamerounds']\n",
    "test=df[df['version']=='test']['sum_gamerounds']\n",
    "ax1=df[['version', 'sum_gamerounds']]\n",
    "sns.boxplot(data=ax1, x='version', y='sum_gamerounds')"
   ]
  },
  {
   "cell_type": "code",
   "execution_count": 18,
   "id": "95b9a761",
   "metadata": {
    "scrolled": true
   },
   "outputs": [
    {
     "data": {
      "text/html": [
       "<div>\n",
       "<style scoped>\n",
       "    .dataframe tbody tr th:only-of-type {\n",
       "        vertical-align: middle;\n",
       "    }\n",
       "\n",
       "    .dataframe tbody tr th {\n",
       "        vertical-align: top;\n",
       "    }\n",
       "\n",
       "    .dataframe thead th {\n",
       "        text-align: right;\n",
       "    }\n",
       "</style>\n",
       "<table border=\"1\" class=\"dataframe\">\n",
       "  <thead>\n",
       "    <tr style=\"text-align: right;\">\n",
       "      <th></th>\n",
       "      <th>count</th>\n",
       "      <th>std</th>\n",
       "      <th>mean</th>\n",
       "    </tr>\n",
       "    <tr>\n",
       "      <th>version</th>\n",
       "      <th></th>\n",
       "      <th></th>\n",
       "      <th></th>\n",
       "    </tr>\n",
       "  </thead>\n",
       "  <tbody>\n",
       "    <tr>\n",
       "      <th>control</th>\n",
       "      <td>44699</td>\n",
       "      <td>102.057598</td>\n",
       "      <td>51.342111</td>\n",
       "    </tr>\n",
       "    <tr>\n",
       "      <th>test</th>\n",
       "      <td>45489</td>\n",
       "      <td>103.294416</td>\n",
       "      <td>51.298776</td>\n",
       "    </tr>\n",
       "  </tbody>\n",
       "</table>\n",
       "</div>"
      ],
      "text/plain": [
       "         count         std       mean\n",
       "version                              \n",
       "control  44699  102.057598  51.342111\n",
       "test     45489  103.294416  51.298776"
      ]
     },
     "execution_count": 18,
     "metadata": {},
     "output_type": "execute_result"
    }
   ],
   "source": [
    "df.groupby('version')['sum_gamerounds'].agg({'count', 'mean', 'std'})"
   ]
  },
  {
   "cell_type": "code",
   "execution_count": 19,
   "id": "0037609e",
   "metadata": {},
   "outputs": [
    {
     "name": "stdout",
     "output_type": "stream",
     "text": [
      "LeveneResult(statistic=0.44323828641133145, pvalue=0.5055653021251583)\n",
      "LeveneResult(statistic=0.07510153837481241, pvalue=0.7840494387892463)\n"
     ]
    }
   ],
   "source": [
    "#Leven Test\n",
    "import scipy.stats as stats\n",
    "print(stats.levene(control, test, center='mean'))\n",
    "print(stats.levene(control, test, center='median'))"
   ]
  },
  {
   "cell_type": "markdown",
   "id": "58777ee2",
   "metadata": {},
   "source": [
    "We can move on by assuming equal variance."
   ]
  },
  {
   "cell_type": "markdown",
   "id": "ba29b26f",
   "metadata": {},
   "source": [
    "### Normal Distribution"
   ]
  },
  {
   "cell_type": "code",
   "execution_count": 20,
   "id": "aa0af290",
   "metadata": {},
   "outputs": [
    {
     "data": {
      "text/plain": [
       "<AxesSubplot:xlabel='sum_gamerounds', ylabel='Density'>"
      ]
     },
     "execution_count": 20,
     "metadata": {},
     "output_type": "execute_result"
    },
    {
     "data": {
      "image/png": "[encoded data removed]",
      "text/plain": [
       "<Figure size 864x864 with 2 Axes>"
      ]
     },
     "metadata": {
      "needs_background": "light"
     },
     "output_type": "display_data"
    }
   ],
   "source": [
    "plt.figure(figsize=(12,12))\n",
    "plt.subplot(2,2,1)\n",
    "sns.distplot(control, kde=True, color='green')\n",
    "\n",
    "plt.subplot(2,2,2)\n",
    "sns.distplot(test, kde=True, color='red')"
   ]
  },
  {
   "cell_type": "code",
   "execution_count": 21,
   "id": "f7510963",
   "metadata": {},
   "outputs": [
    {
     "data": {
      "text/plain": [
       "Text(0.5, 1.0, 'QQ-Plot Test')"
      ]
     },
     "execution_count": 21,
     "metadata": {},
     "output_type": "execute_result"
    },
    {
     "data": {
      "image/png": "[encoded data removed]",
      "text/plain": [
       "<Figure size 864x864 with 2 Axes>"
      ]
     },
     "metadata": {
      "needs_background": "light"
     },
     "output_type": "display_data"
    }
   ],
   "source": [
    "plt.figure(figsize=(12,12))\n",
    "plt.subplot(2,2,1)\n",
    "stats.probplot(control, dist='norm', plot=plt)\n",
    "plt.title('QQ-Plot Control')\n",
    "\n",
    "plt.subplot(2,2,2)\n",
    "stats.probplot(test, dist='norm', plot=plt)\n",
    "plt.title('QQ-Plot Test')"
   ]
  },
  {
   "cell_type": "code",
   "execution_count": 22,
   "id": "be5106a9",
   "metadata": {},
   "outputs": [
    {
     "name": "stdout",
     "output_type": "stream",
     "text": [
      "5.940397152744336\n",
      "5.967287898713902\n"
     ]
    }
   ],
   "source": [
    "print(control.skew())\n",
    "print(test.skew())"
   ]
  },
  {
   "cell_type": "markdown",
   "id": "79d8a85d",
   "metadata": {},
   "source": [
    "Looking at the histograms and Q-Q plot, we can see that the normality assumption is violated. Another indicator is the skewness score, which indicates that the distribution is right-skewed. But we will perform a Kolmogorov-Smirnov test to make sure."
   ]
  },
  {
   "cell_type": "code",
   "execution_count": 23,
   "id": "907a13cb",
   "metadata": {},
   "outputs": [
    {
     "name": "stdout",
     "output_type": "stream",
     "text": [
      "0.0000000000000000000000000000000000000000\n",
      "0.0000000000000000000000000000000000000000\n"
     ]
    }
   ],
   "source": [
    "from scipy.stats import kstest\n",
    "kc, pc=kstest(control, 'norm', stats.norm.fit(control))\n",
    "kt, pt=kstest(test, 'norm', stats.norm.fit(test))\n",
    "print('{:.40f}'.format(pc))\n",
    "print('{:.40f}'.format(pt))"
   ]
  },
  {
   "cell_type": "markdown",
   "id": "ffbc55f8",
   "metadata": {},
   "source": [
    "The visualizations, the skewness score and the Kolmogorov-Smirnov test indicate that the assumption of normality is violated."
   ]
  },
  {
   "cell_type": "markdown",
   "id": "fe5f173e",
   "metadata": {},
   "source": [
    "### Running the test"
   ]
  },
  {
   "cell_type": "markdown",
   "id": "bf647f3d",
   "metadata": {},
   "source": [
    "In the previous chapter, we stated that we have equal variance but not a normal distribution. Therefore we will not be able to do an independent t-test and will be required to do a Mann-Whitney test.\n",
    "\n",
    "First, we need to state our null and alternative hypotheses:\n",
    "\n",
    "- H0=> There is no statistically significant difference between the two means\n",
    "\n",
    "- H1=> There is a statistically significant difference between the two means"
   ]
  },
  {
   "cell_type": "code",
   "execution_count": 24,
   "id": "6b83b91e",
   "metadata": {},
   "outputs": [
    {
     "name": "stdout",
     "output_type": "stream",
     "text": [
      "0.05089155279145376\n"
     ]
    }
   ],
   "source": [
    "from scipy.stats import mannwhitneyu\n",
    "u, p=mannwhitneyu(control, test)\n",
    "print(p)"
   ]
  },
  {
   "cell_type": "markdown",
   "id": "bc52a1fa",
   "metadata": {},
   "source": [
    "The outcome of the Mann-Whitney test indicates that there is no statistically significant difference between the test and the control group. So we do not reject the null hypothesis. There is no statistically significant difference between the two means.\n",
    "\n",
    "But we also want to understand whether moving the gate from level 30 to 40 changed the behaviour, as in actually playing or opening the app.\n",
    "\n",
    "Therefore we will look if there is a difference between the control and test group in\n",
    "- using the app the day after they have installed the game\n",
    "- using the app seven days after they have installed the game"
   ]
  },
  {
   "cell_type": "markdown",
   "id": "8045c756",
   "metadata": {},
   "source": [
    "## A/B Testing one day after the installation of the game\n",
    "### Checking assumptions"
   ]
  },
  {
   "cell_type": "markdown",
   "id": "71aa4f97",
   "metadata": {},
   "source": [
    "To determine if users have changed their behaviour after the gate was moved from level 30 to level 40, we have to use a hypothesis test, in which we compare the proportions of the two independent samples/groups (t-test)."
   ]
  },
  {
   "cell_type": "code",
   "execution_count": 25,
   "id": "170d2828",
   "metadata": {},
   "outputs": [
    {
     "data": {
      "text/html": [
       "<div>\n",
       "<style scoped>\n",
       "    .dataframe tbody tr th:only-of-type {\n",
       "        vertical-align: middle;\n",
       "    }\n",
       "\n",
       "    .dataframe tbody tr th {\n",
       "        vertical-align: top;\n",
       "    }\n",
       "\n",
       "    .dataframe thead th {\n",
       "        text-align: right;\n",
       "    }\n",
       "</style>\n",
       "<table border=\"1\" class=\"dataframe\">\n",
       "  <thead>\n",
       "    <tr style=\"text-align: right;\">\n",
       "      <th></th>\n",
       "      <th>retention_1</th>\n",
       "      <th>per_ret</th>\n",
       "    </tr>\n",
       "  </thead>\n",
       "  <tbody>\n",
       "    <tr>\n",
       "      <th>False</th>\n",
       "      <td>24665</td>\n",
       "      <td>0.551802</td>\n",
       "    </tr>\n",
       "    <tr>\n",
       "      <th>True</th>\n",
       "      <td>20034</td>\n",
       "      <td>0.448198</td>\n",
       "    </tr>\n",
       "  </tbody>\n",
       "</table>\n",
       "</div>"
      ],
      "text/plain": [
       "       retention_1   per_ret\n",
       "False        24665  0.551802\n",
       "True         20034  0.448198"
      ]
     },
     "execution_count": 25,
     "metadata": {},
     "output_type": "execute_result"
    }
   ],
   "source": [
    "#Control group retention1\n",
    "con1=df[df['version']=='control']['retention_1'].value_counts().to_frame()\n",
    "con1['per_ret']=con1.retention_1/con1.retention_1.sum()\n",
    "con1"
   ]
  },
  {
   "cell_type": "code",
   "execution_count": 26,
   "id": "e7eff19d",
   "metadata": {},
   "outputs": [
    {
     "data": {
      "text/html": [
       "<div>\n",
       "<style scoped>\n",
       "    .dataframe tbody tr th:only-of-type {\n",
       "        vertical-align: middle;\n",
       "    }\n",
       "\n",
       "    .dataframe tbody tr th {\n",
       "        vertical-align: top;\n",
       "    }\n",
       "\n",
       "    .dataframe thead th {\n",
       "        text-align: right;\n",
       "    }\n",
       "</style>\n",
       "<table border=\"1\" class=\"dataframe\">\n",
       "  <thead>\n",
       "    <tr style=\"text-align: right;\">\n",
       "      <th></th>\n",
       "      <th>retention_1</th>\n",
       "      <th>per_ret</th>\n",
       "    </tr>\n",
       "  </thead>\n",
       "  <tbody>\n",
       "    <tr>\n",
       "      <th>False</th>\n",
       "      <td>25370</td>\n",
       "      <td>0.557717</td>\n",
       "    </tr>\n",
       "    <tr>\n",
       "      <th>True</th>\n",
       "      <td>20119</td>\n",
       "      <td>0.442283</td>\n",
       "    </tr>\n",
       "  </tbody>\n",
       "</table>\n",
       "</div>"
      ],
      "text/plain": [
       "       retention_1   per_ret\n",
       "False        25370  0.557717\n",
       "True         20119  0.442283"
      ]
     },
     "execution_count": 26,
     "metadata": {},
     "output_type": "execute_result"
    }
   ],
   "source": [
    "#Test group retention1\n",
    "test1=df[df['version']=='test']['retention_1'].value_counts().to_frame()\n",
    "test1['per_ret']=test1.retention_1/test1.retention_1.sum()\n",
    "test1"
   ]
  },
  {
   "cell_type": "markdown",
   "id": "a8494556",
   "metadata": {},
   "source": [
    "As we can see, we fulfil the 2x2 aspect where we have at least five yes and no responses.\n",
    "\n",
    "The sample size is big enough to assume a normal distribution.\n",
    "\n",
    "By checking all boxes, we can run a t-test. Before doing so, we have to set up the null and alternative hypotheses:\n",
    "\n",
    "- H0=> Equal proportion between the control and test group\n",
    "\n",
    "- H1=> There is a statistically significant difference in the proportion between the control and test group"
   ]
  },
  {
   "cell_type": "code",
   "execution_count": 27,
   "id": "fcb5e720",
   "metadata": {},
   "outputs": [
    {
     "data": {
      "text/plain": [
       "Ttest_indResult(statistic=1.7871153372992439, pvalue=0.07392220630182521)"
      ]
     },
     "execution_count": 27,
     "metadata": {},
     "output_type": "execute_result"
    }
   ],
   "source": [
    "con1=df[df['version']=='control']['retention_1']\n",
    "test1=df[df['version']=='test']['retention_1']\n",
    "stats.ttest_ind(con1, test1)"
   ]
  },
  {
   "cell_type": "markdown",
   "id": "cd1088d4",
   "metadata": {},
   "source": [
    "We can see the same picture as when we compared the sum of the game rounds. We do not reject the null hypothesis. We do not have a statistically significant difference in proportion between the two groups.\n",
    "\n",
    "Next, we want to analyse if there is a difference in the behaviour with retention_7."
   ]
  },
  {
   "cell_type": "markdown",
   "id": "831a2139",
   "metadata": {},
   "source": [
    "## A/B Testing seven days after the installation of the game\n",
    "### Checking assumptions"
   ]
  },
  {
   "cell_type": "markdown",
   "id": "de700f90",
   "metadata": {},
   "source": [
    "Just like we did analysing \"retention_1\", we will do a t-test to compare the proportions of the two independent samples/groups."
   ]
  },
  {
   "cell_type": "code",
   "execution_count": 28,
   "id": "7a064215",
   "metadata": {},
   "outputs": [
    {
     "data": {
      "text/html": [
       "<div>\n",
       "<style scoped>\n",
       "    .dataframe tbody tr th:only-of-type {\n",
       "        vertical-align: middle;\n",
       "    }\n",
       "\n",
       "    .dataframe tbody tr th {\n",
       "        vertical-align: top;\n",
       "    }\n",
       "\n",
       "    .dataframe thead th {\n",
       "        text-align: right;\n",
       "    }\n",
       "</style>\n",
       "<table border=\"1\" class=\"dataframe\">\n",
       "  <thead>\n",
       "    <tr style=\"text-align: right;\">\n",
       "      <th></th>\n",
       "      <th>retention_7</th>\n",
       "      <th>per_ret</th>\n",
       "    </tr>\n",
       "  </thead>\n",
       "  <tbody>\n",
       "    <tr>\n",
       "      <th>False</th>\n",
       "      <td>36198</td>\n",
       "      <td>0.809817</td>\n",
       "    </tr>\n",
       "    <tr>\n",
       "      <th>True</th>\n",
       "      <td>8501</td>\n",
       "      <td>0.190183</td>\n",
       "    </tr>\n",
       "  </tbody>\n",
       "</table>\n",
       "</div>"
      ],
      "text/plain": [
       "       retention_7   per_ret\n",
       "False        36198  0.809817\n",
       "True          8501  0.190183"
      ]
     },
     "execution_count": 28,
     "metadata": {},
     "output_type": "execute_result"
    }
   ],
   "source": [
    "#Control group retention 7\n",
    "con7=df[df['version']=='control']['retention_7'].value_counts().to_frame()\n",
    "con7['per_ret']=con7.retention_7/con7.retention_7.sum()\n",
    "con7"
   ]
  },
  {
   "cell_type": "code",
   "execution_count": 29,
   "id": "a2dbaf7d",
   "metadata": {},
   "outputs": [
    {
     "data": {
      "text/html": [
       "<div>\n",
       "<style scoped>\n",
       "    .dataframe tbody tr th:only-of-type {\n",
       "        vertical-align: middle;\n",
       "    }\n",
       "\n",
       "    .dataframe tbody tr th {\n",
       "        vertical-align: top;\n",
       "    }\n",
       "\n",
       "    .dataframe thead th {\n",
       "        text-align: right;\n",
       "    }\n",
       "</style>\n",
       "<table border=\"1\" class=\"dataframe\">\n",
       "  <thead>\n",
       "    <tr style=\"text-align: right;\">\n",
       "      <th></th>\n",
       "      <th>retention_7</th>\n",
       "      <th>per_ret</th>\n",
       "    </tr>\n",
       "  </thead>\n",
       "  <tbody>\n",
       "    <tr>\n",
       "      <th>False</th>\n",
       "      <td>37210</td>\n",
       "      <td>0.818</td>\n",
       "    </tr>\n",
       "    <tr>\n",
       "      <th>True</th>\n",
       "      <td>8279</td>\n",
       "      <td>0.182</td>\n",
       "    </tr>\n",
       "  </tbody>\n",
       "</table>\n",
       "</div>"
      ],
      "text/plain": [
       "       retention_7  per_ret\n",
       "False        37210    0.818\n",
       "True          8279    0.182"
      ]
     },
     "execution_count": 29,
     "metadata": {},
     "output_type": "execute_result"
    }
   ],
   "source": [
    "#Test group retention 7\n",
    "test7=df[df['version']=='test']['retention_7'].value_counts().to_frame()\n",
    "test7['per_ret']=test7.retention_7/test7.retention_7.sum()\n",
    "test7"
   ]
  },
  {
   "cell_type": "markdown",
   "id": "61c077e2",
   "metadata": {},
   "source": [
    "As we can see, we fulfil the 2x2 aspect where we have at least five yes and no responses.\n",
    "\n",
    "The sample size is big enough to assume a normal distribution.\n",
    "\n",
    "By checking all boxes, we can run to run a t-test. Before doing so, we have to set up the null and alternative hypotheses:\n",
    "\n",
    "- H0=> Equal proportion between the control and test group\n",
    "\n",
    "- H1=> There is a statistically significant difference in the proportion between the control and test group"
   ]
  },
  {
   "cell_type": "code",
   "execution_count": 30,
   "id": "524f0e47",
   "metadata": {},
   "outputs": [
    {
     "data": {
      "text/plain": [
       "Ttest_indResult(statistic=3.1575495965685936, pvalue=0.0015915357297854773)"
      ]
     },
     "execution_count": 30,
     "metadata": {},
     "output_type": "execute_result"
    }
   ],
   "source": [
    "#control group retention 7\n",
    "con7=df[df['version']=='control']['retention_7']\n",
    "#test group retention 7\n",
    "test7=df[df['version']=='test']['retention_7']\n",
    "stats.ttest_ind(con7, test7)"
   ]
  },
  {
   "cell_type": "markdown",
   "id": "c7cf8394",
   "metadata": {},
   "source": [
    "So we can reject the null hypothesis. The test has shown a statistically significant difference between these two groups.\n",
    "\n",
    "Next, we will check if the proportion of the control group is statistically greater or less than the proportion of the test group."
   ]
  },
  {
   "cell_type": "code",
   "execution_count": 31,
   "id": "c0564de0",
   "metadata": {},
   "outputs": [
    {
     "data": {
      "text/plain": [
       "Ttest_indResult(statistic=3.1575495965685936, pvalue=0.0007957678648927387)"
      ]
     },
     "execution_count": 31,
     "metadata": {},
     "output_type": "execute_result"
    }
   ],
   "source": [
    "stats.ttest_ind(con7, test7, alternative='greater')"
   ]
  },
  {
   "cell_type": "code",
   "execution_count": 32,
   "id": "7bddbb10",
   "metadata": {},
   "outputs": [
    {
     "data": {
      "text/plain": [
       "Ttest_indResult(statistic=3.1575495965685936, pvalue=0.9992042321351072)"
      ]
     },
     "execution_count": 32,
     "metadata": {},
     "output_type": "execute_result"
    }
   ],
   "source": [
    "stats.ttest_ind(con7, test7, alternative='less')"
   ]
  },
  {
   "cell_type": "markdown",
   "id": "b2871fae",
   "metadata": {},
   "source": [
    "Here we can see that the proportion of the control group is more significant than the proportion of the test group.\n",
    "What does that mean? The test indicates that users from the control group are likelier to play the game after seven days of installing it."
   ]
  },
  {
   "cell_type": "markdown",
   "id": "71c6f818",
   "metadata": {},
   "source": [
    "# Conclusion"
   ]
  },
  {
   "cell_type": "markdown",
   "id": "dd80d5e8",
   "metadata": {},
   "source": [
    "The analysis has shown us that the change from level 30 to 40 did not significantly impact the rounds played by the users. It did not even impact the behaviour of the users one day after they had installed the game.\n",
    "\n",
    "But, regarding the user behaviour \"seven days after the installation,\" we have observed that the control group is likelier to play the game seven days after the observation than the test group.\n",
    "\n",
    "This can and should be further analyzed in future exploratory studies, in which we could get more user feedback."
   ]
  }
 ],
 "metadata": {
  "kernelspec": {
   "display_name": "Python 3 (ipykernel)",
   "language": "python",
   "name": "python3"
  },
  "language_info": {
   "codemirror_mode": {
    "name": "ipython",
    "version": 3
   },
   "file_extension": ".py",
   "mimetype": "text/x-python",
   "name": "python",
   "nbconvert_exporter": "python",
   "pygments_lexer": "ipython3",
   "version": "3.9.7"
  },
  "toc": {
   "base_numbering": 1,
   "nav_menu": {},
   "number_sections": true,
   "sideBar": true,
   "skip_h1_title": false,
   "title_cell": "Table of Contents",
   "title_sidebar": "Contents",
   "toc_cell": false,
   "toc_position": {},
   "toc_section_display": true,
   "toc_window_display": false
  }
 },
 "nbformat": 4,
 "nbformat_minor": 5
}
